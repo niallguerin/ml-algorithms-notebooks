{
 "cells": [
  {
   "cell_type": "markdown",
   "id": "c2a249ad",
   "metadata": {},
   "source": [
    "### Linear Regression using Stochastic Gradient Descent (SGD)"
   ]
  },
  {
   "cell_type": "markdown",
   "id": "614953e4",
   "metadata": {},
   "source": [
    "This is a Linear Regression with Stochastic Gradient Descent(SGD) implementation using sklearn as a port of an offline Excel tutorial in my ebook from Jason Brownlee on machinelearningmastery.com. This is purely for practice of SGD with Linear Regression as stochastic gradient descent is important when dealing with other ML algorithms. \n",
    "\n",
    "This is still Linear Regression - one input, one response variable. This time we are just using an flavor of Gradient Descent to the construct the ML model.\n",
    "\n",
    "The dataset values in the Excel spreadsheet are artificial and Jason, the author, uses the same small dataset in this online version of the tutorial on the machinelearningmaster.com website, referenced below.\n",
    "\n",
    "I have separate notebooks for Stochastic Gradient Descent and Batch Gradient Descent, not included in this library. The tutorials focus on doing these tasks in isolation before doing it in ML algorithm scenarios. \n",
    "\n",
    "This uses SGD, so we are updating the derivative calculation per training instance unlike in batch where we cycle over all the training data instances in the batch before updating the derivative calculation. This was also an exercise we did in the MSc course before diving into ML implementations.\n",
    "\n",
    "##### Dataset Source\n",
    "- https://machinelearningmastery.com/linear-regression-tutorial-using-gradient-descent-for-machine-learning/\n",
    "\n",
    "Note the final prediction and model evaluation performance metric values are going to differ slightly here, though for most part, they are quiet close to the offline Excel predicted values and tutorial predicted values. \n",
    "\n",
    "By default, the sklearn SGDRegressor has default values and I have changed the two main ones (max_iter and alpha) to match the Excel tutorial input values. max_iter is the number of epochs. alpha is the learning rate. \n",
    "\n",
    "Note for SGD, we do not have batches of n-size training samples, we always update calculations for single training instance. \n",
    "\n",
    "For further background, refer here:\n",
    "- https://machinelearningmastery.com/difference-between-a-batch-and-an-epoch/\n",
    "- https://www.geeksforgeeks.org/difference-between-batch-gradient-descent-and-stochastic-gradient-descent/\n",
    "\n",
    "RMSE error score is used as a performance evaluation metric for this ML model. For more information, refer here:\n",
    "- https://en.wikipedia.org/wiki/Root-mean-square_deviation\n",
    "\n",
    "Verified in O'Reilly textbook my SGDRegressor setup here as they did exact same thing in their Linear Regression with SGD example."
   ]
  },
  {
   "cell_type": "code",
   "execution_count": 1,
   "id": "312de225",
   "metadata": {},
   "outputs": [],
   "source": [
    "from sklearn.linear_model import SGDRegressor\n",
    "from sklearn import linear_model\n",
    "\n",
    "# X input features need be in form of a 2D array or sklearn will thrown an error asking you to change it\n",
    "# Scaler not used her for normalizing data which I would use but for purpose of tutorial, do NOT use it\n",
    "X = [[1], [2], [4], [3], [5]]\n",
    "y = [1, 3, 3, 2, 5]"
   ]
  },
  {
   "cell_type": "markdown",
   "id": "dc5214c3",
   "metadata": {},
   "source": [
    "##### Machine Learning Model and Training"
   ]
  },
  {
   "cell_type": "code",
   "execution_count": 2,
   "id": "33e0999d",
   "metadata": {},
   "outputs": [
    {
     "name": "stderr",
     "output_type": "stream",
     "text": [
      "/Users/niallguerin/opt/anaconda3/lib/python3.9/site-packages/sklearn/linear_model/_stochastic_gradient.py:1527: ConvergenceWarning: Maximum number of iteration reached before convergence. Consider increasing max_iter to improve the fit.\n",
      "  warnings.warn(\n"
     ]
    },
    {
     "data": {
      "text/html": [
       "<style>#sk-container-id-1 {color: black;background-color: white;}#sk-container-id-1 pre{padding: 0;}#sk-container-id-1 div.sk-toggleable {background-color: white;}#sk-container-id-1 label.sk-toggleable__label {cursor: pointer;display: block;width: 100%;margin-bottom: 0;padding: 0.3em;box-sizing: border-box;text-align: center;}#sk-container-id-1 label.sk-toggleable__label-arrow:before {content: \"▸\";float: left;margin-right: 0.25em;color: #696969;}#sk-container-id-1 label.sk-toggleable__label-arrow:hover:before {color: black;}#sk-container-id-1 div.sk-estimator:hover label.sk-toggleable__label-arrow:before {color: black;}#sk-container-id-1 div.sk-toggleable__content {max-height: 0;max-width: 0;overflow: hidden;text-align: left;background-color: #f0f8ff;}#sk-container-id-1 div.sk-toggleable__content pre {margin: 0.2em;color: black;border-radius: 0.25em;background-color: #f0f8ff;}#sk-container-id-1 input.sk-toggleable__control:checked~div.sk-toggleable__content {max-height: 200px;max-width: 100%;overflow: auto;}#sk-container-id-1 input.sk-toggleable__control:checked~label.sk-toggleable__label-arrow:before {content: \"▾\";}#sk-container-id-1 div.sk-estimator input.sk-toggleable__control:checked~label.sk-toggleable__label {background-color: #d4ebff;}#sk-container-id-1 div.sk-label input.sk-toggleable__control:checked~label.sk-toggleable__label {background-color: #d4ebff;}#sk-container-id-1 input.sk-hidden--visually {border: 0;clip: rect(1px 1px 1px 1px);clip: rect(1px, 1px, 1px, 1px);height: 1px;margin: -1px;overflow: hidden;padding: 0;position: absolute;width: 1px;}#sk-container-id-1 div.sk-estimator {font-family: monospace;background-color: #f0f8ff;border: 1px dotted black;border-radius: 0.25em;box-sizing: border-box;margin-bottom: 0.5em;}#sk-container-id-1 div.sk-estimator:hover {background-color: #d4ebff;}#sk-container-id-1 div.sk-parallel-item::after {content: \"\";width: 100%;border-bottom: 1px solid gray;flex-grow: 1;}#sk-container-id-1 div.sk-label:hover label.sk-toggleable__label {background-color: #d4ebff;}#sk-container-id-1 div.sk-serial::before {content: \"\";position: absolute;border-left: 1px solid gray;box-sizing: border-box;top: 0;bottom: 0;left: 50%;z-index: 0;}#sk-container-id-1 div.sk-serial {display: flex;flex-direction: column;align-items: center;background-color: white;padding-right: 0.2em;padding-left: 0.2em;position: relative;}#sk-container-id-1 div.sk-item {position: relative;z-index: 1;}#sk-container-id-1 div.sk-parallel {display: flex;align-items: stretch;justify-content: center;background-color: white;position: relative;}#sk-container-id-1 div.sk-item::before, #sk-container-id-1 div.sk-parallel-item::before {content: \"\";position: absolute;border-left: 1px solid gray;box-sizing: border-box;top: 0;bottom: 0;left: 50%;z-index: -1;}#sk-container-id-1 div.sk-parallel-item {display: flex;flex-direction: column;z-index: 1;position: relative;background-color: white;}#sk-container-id-1 div.sk-parallel-item:first-child::after {align-self: flex-end;width: 50%;}#sk-container-id-1 div.sk-parallel-item:last-child::after {align-self: flex-start;width: 50%;}#sk-container-id-1 div.sk-parallel-item:only-child::after {width: 0;}#sk-container-id-1 div.sk-dashed-wrapped {border: 1px dashed gray;margin: 0 0.4em 0.5em 0.4em;box-sizing: border-box;padding-bottom: 0.4em;background-color: white;}#sk-container-id-1 div.sk-label label {font-family: monospace;font-weight: bold;display: inline-block;line-height: 1.2em;}#sk-container-id-1 div.sk-label-container {text-align: center;}#sk-container-id-1 div.sk-container {/* jupyter's `normalize.less` sets `[hidden] { display: none; }` but bootstrap.min.css set `[hidden] { display: none !important; }` so we also need the `!important` here to be able to override the default hidden behavior on the sphinx rendered scikit-learn.org. See: https://github.com/scikit-learn/scikit-learn/issues/21755 */display: inline-block !important;position: relative;}#sk-container-id-1 div.sk-text-repr-fallback {display: none;}</style><div id=\"sk-container-id-1\" class=\"sk-top-container\"><div class=\"sk-text-repr-fallback\"><pre>SGDRegressor(alpha=0.01, max_iter=20)</pre><b>In a Jupyter environment, please rerun this cell to show the HTML representation or trust the notebook. <br />On GitHub, the HTML representation is unable to render, please try loading this page with nbviewer.org.</b></div><div class=\"sk-container\" hidden><div class=\"sk-item\"><div class=\"sk-estimator sk-toggleable\"><input class=\"sk-toggleable__control sk-hidden--visually\" id=\"sk-estimator-id-1\" type=\"checkbox\" checked><label for=\"sk-estimator-id-1\" class=\"sk-toggleable__label sk-toggleable__label-arrow\">SGDRegressor</label><div class=\"sk-toggleable__content\"><pre>SGDRegressor(alpha=0.01, max_iter=20)</pre></div></div></div></div></div>"
      ],
      "text/plain": [
       "SGDRegressor(alpha=0.01, max_iter=20)"
      ]
     },
     "execution_count": 2,
     "metadata": {},
     "output_type": "execute_result"
    }
   ],
   "source": [
    "# set up linear model using stochastic gradient descent, 4 epochs i.e. 20 iterations, to match offline example and tutorial \n",
    "lr_sgd = linear_model.SGDRegressor(max_iter=20, alpha=0.01, loss=\"squared_error\")\n",
    "lr_sgd.fit(X, y)"
   ]
  },
  {
   "cell_type": "markdown",
   "id": "46abcb3c",
   "metadata": {},
   "source": [
    "Display intercept and print coefficient from our linear regression model. These are optimal weights W0 and W1 for the SGD formula where:\n",
    "- W0 = W * alpha * delta \n",
    "- W1 = W * alpha * delta * X input feature dataset value\n",
    "\n",
    "They correspond to the last iteration of Gradient Descent above in lr_sgd.fit(X,y) and map to B0 and B1 in the offline Excel spreadsheet and in the online tutorial dataset used as reference for this notebook template. "
   ]
  },
  {
   "cell_type": "code",
   "execution_count": 3,
   "id": "d76fd72c",
   "metadata": {},
   "outputs": [
    {
     "data": {
      "text/plain": [
       "(array([0.24973862]), array([0.83639442]))"
      ]
     },
     "execution_count": 3,
     "metadata": {},
     "output_type": "execute_result"
    }
   ],
   "source": [
    "lr_sgd.intercept_, lr_sgd.coef_, "
   ]
  },
  {
   "cell_type": "markdown",
   "id": "75ff576e",
   "metadata": {},
   "source": [
    "##### Linear Regression Model: Run Predictions"
   ]
  },
  {
   "cell_type": "code",
   "execution_count": 4,
   "id": "345dbe30",
   "metadata": {},
   "outputs": [],
   "source": [
    "y_pred = lr_sgd.predict(X)"
   ]
  },
  {
   "cell_type": "code",
   "execution_count": 5,
   "id": "cfcd226b",
   "metadata": {},
   "outputs": [
    {
     "data": {
      "text/plain": [
       "array([1.08613305, 1.92252747, 3.59531632, 2.75892189, 4.43171074])"
      ]
     },
     "execution_count": 5,
     "metadata": {},
     "output_type": "execute_result"
    }
   ],
   "source": [
    "y_pred"
   ]
  },
  {
   "cell_type": "markdown",
   "id": "d5c5386a",
   "metadata": {},
   "source": [
    "The predicted Y values in the corresponding Excel spreadsheet for LR with SGD are:\n",
    "- 1.021336101 (Actual Y: 1)\n",
    "- 1.811774711 (Actual Y: 3)\n",
    "- 3.392651932 (Actual Y: 3)\n",
    "- 2.602213322 (Actual Y: 2)\n",
    "- 4.183090542 (Actual Y: 5)"
   ]
  },
  {
   "cell_type": "markdown",
   "id": "d4bfb94f",
   "metadata": {},
   "source": [
    "##### Calculate Error: Root Mean Squared Error (RMSE)"
   ]
  },
  {
   "cell_type": "code",
   "execution_count": 6,
   "id": "2ff378b5",
   "metadata": {},
   "outputs": [],
   "source": [
    "from sklearn.metrics import mean_squared_error\n",
    "rmse = mean_squared_error(y, y_pred, squared=False)"
   ]
  },
  {
   "cell_type": "code",
   "execution_count": 7,
   "id": "a7de5248",
   "metadata": {},
   "outputs": [
    {
     "data": {
      "text/plain": [
       "0.6959428992129655"
      ]
     },
     "execution_count": 7,
     "metadata": {},
     "output_type": "execute_result"
    }
   ],
   "source": [
    "rmse"
   ]
  },
  {
   "cell_type": "markdown",
   "id": "76706862",
   "metadata": {},
   "source": [
    "Plot the linear model after using SGD implementation."
   ]
  },
  {
   "cell_type": "code",
   "execution_count": 8,
   "id": "f2cab5b3",
   "metadata": {},
   "outputs": [
    {
     "data": {
      "image/png": "[encoded data removed]",
      "text/plain": [
       "<Figure size 800x500 with 1 Axes>"
      ]
     },
     "metadata": {},
     "output_type": "display_data"
    }
   ],
   "source": [
    "# Plot outputs\n",
    "# https://matplotlib.org/stable/api/markers_api.html\n",
    "# https://matplotlib.org/stable/tutorials/intermediate/legend_guide.html#sphx-glr-tutorials-intermediate-legend-guide-py\n",
    "import matplotlib.pyplot as plt\n",
    "fig = plt.figure(figsize=(8,5))\n",
    "ax = fig.add_subplot(111)\n",
    "ax.set_title('Linear Regression Model using SGD')\n",
    "plt.scatter(X, y, color=\"red\", marker=\"D\")\n",
    "plt.plot(X, y_pred, color=\"black\", marker=\"D\", linewidth=1, label='Predictions')\n",
    "plt.xlabel(\"X\")\n",
    "plt.ylabel(\"y_pred\")\n",
    "ax.set_xlabel('X')\n",
    "ax.set_ylabel('y_pred')\n",
    "ax.legend(loc='best')\n",
    "plt.show()"
   ]
  },
  {
   "cell_type": "markdown",
   "id": "ded459c7",
   "metadata": {},
   "source": [
    "Regarding randomness in machine learning, refer to this topic:\n",
    "- https://machinelearningmastery.com/randomness-in-machine-learning/\n",
    "\n",
    "Crosscheck your template use of sklearn library with O'Reilly textbook reference:\n",
    "- https://machinelearning101.readthedocs.io/en/latest/_pages/11_example_simple_linear_regression.html#gradient-descent"
   ]
  },
  {
   "cell_type": "markdown",
   "id": "8706084e",
   "metadata": {},
   "source": [
    "#### Web Reference\n",
    "- https://scikit-learn.org/stable/modules/sgd.html\n",
    "- https://scikit-learn.org/stable/modules/generated/sklearn.linear_model.SGDClassifier.html\n",
    "- https://scikit-learn.org/stable/modules/generated/sklearn.linear_model.SGDRegressor.html\n",
    "- https://www.oreilly.com/library/view/hands-on-machine-learning/9781491962282/ch04.html"
   ]
  }
 ],
 "metadata": {
  "kernelspec": {
   "display_name": "Python 3 (ipykernel)",
   "language": "python",
   "name": "python3"
  },
  "language_info": {
   "codemirror_mode": {
    "name": "ipython",
    "version": 3
   },
   "file_extension": ".py",
   "mimetype": "text/x-python",
   "name": "python",
   "nbconvert_exporter": "python",
   "pygments_lexer": "ipython3",
   "version": "3.9.12"
  }
 },
 "nbformat": 4,
 "nbformat_minor": 5
}
