{
 "cells": [
  {
   "cell_type": "markdown",
   "id": "63d56556",
   "metadata": {},
   "source": [
    "## Simple Linear Regression"
   ]
  },
  {
   "cell_type": "markdown",
   "id": "4fb9c85c",
   "metadata": {},
   "source": [
    "This is a Python sklearn implementation of simple linear regression - one input variable, one response variable.\n",
    "\n",
    "We pass in a public dataset with single input feature and response variables - X and y, respectively. \n",
    "\n",
    "##### Dataset Source\n",
    "\n",
    "The dataset used is one commonly used in examples for linear regression - auto insurance claims in Sweden.\n",
    "- Original Source: https://www.math.muni.cz/~kolacek/docs/frvs/M7222/data/AutoInsurSweden.txt\n",
    "- Kaggle Source: https://www.kaggle.com/datasets/sunmarkil/auto-insurance-in-sweden-small-dataset?select=insurance.csv"
   ]
  },
  {
   "cell_type": "markdown",
   "id": "2d42ca0f",
   "metadata": {},
   "source": [
    "Import pandas as it is my go-to library for Python dataset processing and exploratory data analysis. We will use Seaborn for some basic data visualization plots of the dataset columns. We are going to import Linear Regression model from sklearn and we will import the MSE from the sklearn metrics library."
   ]
  },
  {
   "cell_type": "code",
   "execution_count": 1,
   "id": "4f58e865",
   "metadata": {},
   "outputs": [],
   "source": [
    "import pandas as pd\n",
    "import seaborn as sns\n",
    "from sklearn.linear_model import LinearRegression"
   ]
  },
  {
   "cell_type": "code",
   "execution_count": 2,
   "id": "a50e2041",
   "metadata": {},
   "outputs": [],
   "source": [
    "autoinsurance_dataset = pd.read_csv(\"../datasets/autoinsuranceclaims.csv\")"
   ]
  },
  {
   "cell_type": "markdown",
   "id": "9f4c8bba",
   "metadata": {},
   "source": [
    "The following explains the dataset, taken directly from this source:\n",
    "- https://www.math.muni.cz/~kolacek/docs/frvs/M7222/data/AutoInsurSweden.txt\n",
    "\n",
    "##### Dataset Explained\n",
    "- claims (X) = number of claims\n",
    "- totalpayments (y) = total payment for all the claims in thousands of Swedish Kronor for geographical zones in Sweden\n",
    "\n",
    "Our response variable is predicting the total payment for all claims in Swedish Kronor for a given number of claims. \n",
    "\n",
    "Let us get an overview of the dataset, even if it is a simple one.\n",
    "\n",
    "##### Exploratory Data Analysis"
   ]
  },
  {
   "cell_type": "code",
   "execution_count": 3,
   "id": "d1616b7c",
   "metadata": {},
   "outputs": [
    {
     "data": {
      "text/html": [
       "<div>\n",
       "<style scoped>\n",
       "    .dataframe tbody tr th:only-of-type {\n",
       "        vertical-align: middle;\n",
       "    }\n",
       "\n",
       "    .dataframe tbody tr th {\n",
       "        vertical-align: top;\n",
       "    }\n",
       "\n",
       "    .dataframe thead th {\n",
       "        text-align: right;\n",
       "    }\n",
       "</style>\n",
       "<table border=\"1\" class=\"dataframe\">\n",
       "  <thead>\n",
       "    <tr style=\"text-align: right;\">\n",
       "      <th></th>\n",
       "      <th>claims</th>\n",
       "      <th>totalpayments</th>\n",
       "    </tr>\n",
       "  </thead>\n",
       "  <tbody>\n",
       "    <tr>\n",
       "      <th>0</th>\n",
       "      <td>108</td>\n",
       "      <td>392.5</td>\n",
       "    </tr>\n",
       "    <tr>\n",
       "      <th>1</th>\n",
       "      <td>19</td>\n",
       "      <td>46.2</td>\n",
       "    </tr>\n",
       "    <tr>\n",
       "      <th>2</th>\n",
       "      <td>13</td>\n",
       "      <td>15.7</td>\n",
       "    </tr>\n",
       "    <tr>\n",
       "      <th>3</th>\n",
       "      <td>124</td>\n",
       "      <td>422.2</td>\n",
       "    </tr>\n",
       "    <tr>\n",
       "      <th>4</th>\n",
       "      <td>40</td>\n",
       "      <td>119.4</td>\n",
       "    </tr>\n",
       "  </tbody>\n",
       "</table>\n",
       "</div>"
      ],
      "text/plain": [
       "   claims   totalpayments\n",
       "0     108           392.5\n",
       "1      19            46.2\n",
       "2      13            15.7\n",
       "3     124           422.2\n",
       "4      40           119.4"
      ]
     },
     "execution_count": 3,
     "metadata": {},
     "output_type": "execute_result"
    }
   ],
   "source": [
    "autoinsurance_dataset.head()"
   ]
  },
  {
   "cell_type": "code",
   "execution_count": 4,
   "id": "62a630cc",
   "metadata": {},
   "outputs": [
    {
     "name": "stdout",
     "output_type": "stream",
     "text": [
      "<class 'pandas.core.frame.DataFrame'>\n",
      "RangeIndex: 63 entries, 0 to 62\n",
      "Data columns (total 2 columns):\n",
      " #   Column          Non-Null Count  Dtype  \n",
      "---  ------          --------------  -----  \n",
      " 0   claims          63 non-null     int64  \n",
      " 1    totalpayments  63 non-null     float64\n",
      "dtypes: float64(1), int64(1)\n",
      "memory usage: 1.1 KB\n"
     ]
    }
   ],
   "source": [
    "autoinsurance_dataset.info()"
   ]
  },
  {
   "cell_type": "markdown",
   "id": "81a361c1",
   "metadata": {},
   "source": [
    "Use pandas describe to obtain basic statistical summary from the input feature data and the response variable data. This will give us counts, mean, standard deviation, and the five-number summary (min, max, median, first quartile, third quartile).\n",
    "\n",
    "Exploratory data analysis is done before doing any ML algorithm selection and evaluation. In later examples beyond this simple linear regression, data transformations are done to normalize the dataset and ensure it is in a more suitable format for the ML algorithm being used in the notebook."
   ]
  },
  {
   "cell_type": "code",
   "execution_count": 5,
   "id": "65d764cb",
   "metadata": {},
   "outputs": [
    {
     "data": {
      "text/html": [
       "<div>\n",
       "<style scoped>\n",
       "    .dataframe tbody tr th:only-of-type {\n",
       "        vertical-align: middle;\n",
       "    }\n",
       "\n",
       "    .dataframe tbody tr th {\n",
       "        vertical-align: top;\n",
       "    }\n",
       "\n",
       "    .dataframe thead th {\n",
       "        text-align: right;\n",
       "    }\n",
       "</style>\n",
       "<table border=\"1\" class=\"dataframe\">\n",
       "  <thead>\n",
       "    <tr style=\"text-align: right;\">\n",
       "      <th></th>\n",
       "      <th>claims</th>\n",
       "      <th>totalpayments</th>\n",
       "    </tr>\n",
       "  </thead>\n",
       "  <tbody>\n",
       "    <tr>\n",
       "      <th>count</th>\n",
       "      <td>63.000000</td>\n",
       "      <td>63.000000</td>\n",
       "    </tr>\n",
       "    <tr>\n",
       "      <th>mean</th>\n",
       "      <td>22.904762</td>\n",
       "      <td>98.187302</td>\n",
       "    </tr>\n",
       "    <tr>\n",
       "      <th>std</th>\n",
       "      <td>23.351946</td>\n",
       "      <td>87.327553</td>\n",
       "    </tr>\n",
       "    <tr>\n",
       "      <th>min</th>\n",
       "      <td>0.000000</td>\n",
       "      <td>0.000000</td>\n",
       "    </tr>\n",
       "    <tr>\n",
       "      <th>25%</th>\n",
       "      <td>7.500000</td>\n",
       "      <td>38.850000</td>\n",
       "    </tr>\n",
       "    <tr>\n",
       "      <th>50%</th>\n",
       "      <td>14.000000</td>\n",
       "      <td>73.400000</td>\n",
       "    </tr>\n",
       "    <tr>\n",
       "      <th>75%</th>\n",
       "      <td>29.000000</td>\n",
       "      <td>140.000000</td>\n",
       "    </tr>\n",
       "    <tr>\n",
       "      <th>max</th>\n",
       "      <td>124.000000</td>\n",
       "      <td>422.200000</td>\n",
       "    </tr>\n",
       "  </tbody>\n",
       "</table>\n",
       "</div>"
      ],
      "text/plain": [
       "           claims   totalpayments\n",
       "count   63.000000       63.000000\n",
       "mean    22.904762       98.187302\n",
       "std     23.351946       87.327553\n",
       "min      0.000000        0.000000\n",
       "25%      7.500000       38.850000\n",
       "50%     14.000000       73.400000\n",
       "75%     29.000000      140.000000\n",
       "max    124.000000      422.200000"
      ]
     },
     "execution_count": 5,
     "metadata": {},
     "output_type": "execute_result"
    }
   ],
   "source": [
    "autoinsurance_dataset.describe()"
   ]
  },
  {
   "cell_type": "markdown",
   "id": "cac76bed",
   "metadata": {},
   "source": [
    "The following outputs simple histograms to show the distribution of data in the claims and totalpayments column as an example. In later notebooks and ML algorithms in this template library for sklearn, we will use transformations for some feature columns in particular to evaluate performance of ML model before and after transformation tests. Some ML algorithms expect normal data distributions in the data values for that feature column, so keep in mind if suboptimal performance is observed later in ML algorithm test cases."
   ]
  },
  {
   "cell_type": "code",
   "execution_count": 6,
   "id": "ce35452c",
   "metadata": {},
   "outputs": [
    {
     "data": {
      "image/png": "[encoded data removed]",
      "text/plain": [
       "<Figure size 640x480 with 2 Axes>"
      ]
     },
     "metadata": {},
     "output_type": "display_data"
    }
   ],
   "source": [
    "hist = autoinsurance_dataset.hist(bins=3)"
   ]
  },
  {
   "cell_type": "code",
   "execution_count": 7,
   "id": "91b517c7",
   "metadata": {},
   "outputs": [],
   "source": [
    "X = autoinsurance_dataset.iloc[: , 0:1]"
   ]
  },
  {
   "cell_type": "code",
   "execution_count": 8,
   "id": "bf0e1858",
   "metadata": {},
   "outputs": [
    {
     "data": {
      "text/html": [
       "<div>\n",
       "<style scoped>\n",
       "    .dataframe tbody tr th:only-of-type {\n",
       "        vertical-align: middle;\n",
       "    }\n",
       "\n",
       "    .dataframe tbody tr th {\n",
       "        vertical-align: top;\n",
       "    }\n",
       "\n",
       "    .dataframe thead th {\n",
       "        text-align: right;\n",
       "    }\n",
       "</style>\n",
       "<table border=\"1\" class=\"dataframe\">\n",
       "  <thead>\n",
       "    <tr style=\"text-align: right;\">\n",
       "      <th></th>\n",
       "      <th>claims</th>\n",
       "    </tr>\n",
       "  </thead>\n",
       "  <tbody>\n",
       "    <tr>\n",
       "      <th>0</th>\n",
       "      <td>108</td>\n",
       "    </tr>\n",
       "    <tr>\n",
       "      <th>1</th>\n",
       "      <td>19</td>\n",
       "    </tr>\n",
       "    <tr>\n",
       "      <th>2</th>\n",
       "      <td>13</td>\n",
       "    </tr>\n",
       "    <tr>\n",
       "      <th>3</th>\n",
       "      <td>124</td>\n",
       "    </tr>\n",
       "    <tr>\n",
       "      <th>4</th>\n",
       "      <td>40</td>\n",
       "    </tr>\n",
       "    <tr>\n",
       "      <th>...</th>\n",
       "      <td>...</td>\n",
       "    </tr>\n",
       "    <tr>\n",
       "      <th>58</th>\n",
       "      <td>9</td>\n",
       "    </tr>\n",
       "    <tr>\n",
       "      <th>59</th>\n",
       "      <td>31</td>\n",
       "    </tr>\n",
       "    <tr>\n",
       "      <th>60</th>\n",
       "      <td>14</td>\n",
       "    </tr>\n",
       "    <tr>\n",
       "      <th>61</th>\n",
       "      <td>53</td>\n",
       "    </tr>\n",
       "    <tr>\n",
       "      <th>62</th>\n",
       "      <td>26</td>\n",
       "    </tr>\n",
       "  </tbody>\n",
       "</table>\n",
       "<p>63 rows × 1 columns</p>\n",
       "</div>"
      ],
      "text/plain": [
       "    claims\n",
       "0      108\n",
       "1       19\n",
       "2       13\n",
       "3      124\n",
       "4       40\n",
       "..     ...\n",
       "58       9\n",
       "59      31\n",
       "60      14\n",
       "61      53\n",
       "62      26\n",
       "\n",
       "[63 rows x 1 columns]"
      ]
     },
     "execution_count": 8,
     "metadata": {},
     "output_type": "execute_result"
    }
   ],
   "source": [
    "X"
   ]
  },
  {
   "cell_type": "code",
   "execution_count": 9,
   "id": "597aa6d1",
   "metadata": {},
   "outputs": [],
   "source": [
    "y = autoinsurance_dataset.iloc[: , -1]"
   ]
  },
  {
   "cell_type": "code",
   "execution_count": 10,
   "id": "90cb61cb",
   "metadata": {},
   "outputs": [
    {
     "data": {
      "text/plain": [
       "0     392.5\n",
       "1      46.2\n",
       "2      15.7\n",
       "3     422.2\n",
       "4     119.4\n",
       "      ...  \n",
       "58     87.4\n",
       "59    209.8\n",
       "60     95.5\n",
       "61    244.6\n",
       "62    187.5\n",
       "Name:  totalpayments, Length: 63, dtype: float64"
      ]
     },
     "execution_count": 10,
     "metadata": {},
     "output_type": "execute_result"
    }
   ],
   "source": [
    "y"
   ]
  },
  {
   "cell_type": "markdown",
   "id": "275a5206",
   "metadata": {},
   "source": [
    "##### Machine Learning Model and Training"
   ]
  },
  {
   "cell_type": "markdown",
   "id": "b46a6d1f",
   "metadata": {},
   "source": [
    "Now train the model. You can chain the function calls or do them separately as sklearn examples will show examples of both in their documentation for implementation."
   ]
  },
  {
   "cell_type": "code",
   "execution_count": 11,
   "id": "1e79ba7e",
   "metadata": {},
   "outputs": [],
   "source": [
    "simple_linear_regression_model = LinearRegression().fit(X, y)"
   ]
  },
  {
   "cell_type": "markdown",
   "id": "46a47965",
   "metadata": {},
   "source": [
    "The next section calls Score on the model for X input features and y output label. Best score is 1.0 and lowest is 0.0.\n",
    "\n",
    "Refer to sklearn documentation for details on this function:\n",
    "- https://scikit-learn.org/stable/modules/generated/sklearn.linear_model.LinearRegression.html#sklearn.linear_model.LinearRegression.score"
   ]
  },
  {
   "cell_type": "code",
   "execution_count": 12,
   "id": "47e69e6f",
   "metadata": {},
   "outputs": [
    {
     "data": {
      "text/plain": [
       "0.8333466719794502"
      ]
     },
     "execution_count": 12,
     "metadata": {},
     "output_type": "execute_result"
    }
   ],
   "source": [
    "simple_linear_regression_model.score(X, y)"
   ]
  },
  {
   "cell_type": "markdown",
   "id": "6918e0ee",
   "metadata": {},
   "source": [
    "This next section calculates the model coefficient i.e. B1 in our equation for y = B0 + B1 * X; this defines the slope of our linear regression line."
   ]
  },
  {
   "cell_type": "code",
   "execution_count": 13,
   "id": "21f6658c",
   "metadata": {},
   "outputs": [
    {
     "data": {
      "text/plain": [
       "array([3.41382356])"
      ]
     },
     "execution_count": 13,
     "metadata": {},
     "output_type": "execute_result"
    }
   ],
   "source": [
    "simple_linear_regression_model.coef_"
   ]
  },
  {
   "cell_type": "markdown",
   "id": "39191200",
   "metadata": {},
   "source": [
    "##### Linear Regression Model: Run Predictions\n",
    "Now, we run our predictions using our existing training dataset as this is following the sklearn documentation example format. In later notebook examples, we will be following standard ML model training convention of using a train:test split to create our holdout dataset and only running generated ML model predictions on the test dataset i.e. data the ML model has not seen before."
   ]
  },
  {
   "cell_type": "code",
   "execution_count": 14,
   "id": "61ab77fb",
   "metadata": {},
   "outputs": [],
   "source": [
    "y_pred = simple_linear_regression_model.predict(X)"
   ]
  },
  {
   "cell_type": "code",
   "execution_count": 15,
   "id": "dd1a4450",
   "metadata": {},
   "outputs": [
    {
     "data": {
      "text/plain": [
       "array([388.68743025,  84.8571334 ,  64.37419204, 443.30860721,\n",
       "       156.54742816, 214.58242868,  98.51242764,  67.7880156 ,\n",
       "       173.61654596,  54.13272136,  37.06360356, 183.85801664,\n",
       "        57.54654492,  98.51242764,  43.89125068,  26.82213288,\n",
       "       101.9262512 ,  40.47742712,  30.23595644,  98.51242764,\n",
       "        40.47742712,  50.7188978 ,  50.7188978 ,  30.23595644,\n",
       "       118.995369  ,  43.89125068,  33.64978   ,  88.27095696,\n",
       "        43.89125068,  33.64978   ,  19.99448576, 105.34007476,\n",
       "        40.47742712,  37.06360356,  95.09860408,  57.54654492,\n",
       "       228.23772292,  60.96036848,  33.64978   ,  74.61566272,\n",
       "        64.37419204, 224.82389936, 159.96125172, 146.30595748,\n",
       "       207.75478156, 159.96125172,  57.54654492, 112.16772188,\n",
       "        47.30507424,  30.23595644,  78.02948628,  64.37419204,\n",
       "        64.37419204,  71.20183916,  47.30507424, 118.995369  ,\n",
       "       122.40919256, 101.9262512 ,  50.7188978 , 125.82301612,\n",
       "        67.7880156 , 200.92713444, 108.75389832])"
      ]
     },
     "execution_count": 15,
     "metadata": {},
     "output_type": "execute_result"
    }
   ],
   "source": [
    "y_pred"
   ]
  },
  {
   "cell_type": "markdown",
   "id": "83fe2ea1",
   "metadata": {},
   "source": [
    "Plot the linear model for claims to total payments."
   ]
  },
  {
   "cell_type": "code",
   "execution_count": 16,
   "id": "f83ad62a",
   "metadata": {},
   "outputs": [
    {
     "data": {
      "image/png": "[encoded data removed]",
      "text/plain": [
       "<Figure size 640x480 with 1 Axes>"
      ]
     },
     "metadata": {},
     "output_type": "display_data"
    }
   ],
   "source": [
    "# Plot outputs\n",
    "# https://matplotlib.org/stable/api/markers_api.html\n",
    "# https://matplotlib.org/stable/tutorials/intermediate/legend_guide.html#sphx-glr-tutorials-intermediate-legend-guide-py\n",
    "import matplotlib.pyplot as plt\n",
    "plt.scatter(X, y, color=\"red\", marker=\"D\")\n",
    "plt.plot(X, y_pred, color=\"black\", marker=\"D\", linewidth=1)\n",
    "plt.xlabel(\"Number of Claims\")\n",
    "plt.ylabel(\"Total payments in Thousands of Kronor\")\n",
    "plt.show()"
   ]
  },
  {
   "cell_type": "markdown",
   "id": "65256bd0",
   "metadata": {},
   "source": [
    "#### Web References\n",
    "- https://scikit-learn.org/stable/modules/generated/sklearn.linear_model.LinearRegression.html\n",
    "- https://scikit-learn.org/stable/modules/generated/sklearn.metrics.mean_squared_error.html\n",
    "- https://machinelearningmastery.com/implement-simple-linear-regression-scratch-python/"
   ]
  }
 ],
 "metadata": {
  "kernelspec": {
   "display_name": "Python 3 (ipykernel)",
   "language": "python",
   "name": "python3"
  },
  "language_info": {
   "codemirror_mode": {
    "name": "ipython",
    "version": 3
   },
   "file_extension": ".py",
   "mimetype": "text/x-python",
   "name": "python",
   "nbconvert_exporter": "python",
   "pygments_lexer": "ipython3",
   "version": "3.9.12"
  }
 },
 "nbformat": 4,
 "nbformat_minor": 5
}
