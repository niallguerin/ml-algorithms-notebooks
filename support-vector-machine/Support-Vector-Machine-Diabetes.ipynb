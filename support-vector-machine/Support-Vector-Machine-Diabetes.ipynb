{
 "cells": [
  {
   "cell_type": "markdown",
   "id": "ab7e1e2c",
   "metadata": {},
   "source": [
    "### Support Vector Machine - Binary Classifier\n",
    "This notebook implements a Support Vector Machine (SVM) machine learning model binary classifier from sklearn. I experimented with two library imports - svm and linearsvc. The latter is kept as it performed marginally better on the test dataset with minimual tuning, which is the point of these baseline notebook templates, though both imports are maintained below to allow easy re-runs and tests, if I need them.\n",
    "\n",
    "This dataset is transformed using scaling functions from sklearn.\n",
    "\n",
    "Refer to below sklearn documentation for impact of scalers for input features.\n",
    "- https://scikit-learn.org/stable/auto_examples/preprocessing/plot_all_scaling.html\n",
    "\n",
    "We import pandas, sklearn, train_test_split and the sklearn svm library option."
   ]
  },
  {
   "cell_type": "code",
   "execution_count": 1,
   "id": "fbbffb66",
   "metadata": {},
   "outputs": [],
   "source": [
    "import pandas as pd\n",
    "import sklearn\n",
    "from sklearn.model_selection import train_test_split\n",
    "from sklearn import svm # svm library default though I specify linear attribute for the kernel parameter\n",
    "from sklearn.svm import LinearSVC # alternative svm library that sklearn recommends for large datasets\n",
    "from sklearn.metrics import classification_report\n",
    "from sklearn.metrics import confusion_matrix, ConfusionMatrixDisplay\n",
    "import seaborn as sns\n",
    "from matplotlib import pyplot"
   ]
  },
  {
   "cell_type": "markdown",
   "id": "9a5a852d",
   "metadata": {},
   "source": [
    "#### Exploratory Data Analysis\n",
    "We use the diabetes dataset. For information about this dataset, refer to the Kaggle dataset library summary:\n",
    "- https://www.kaggle.com/datasets/uciml/pima-indians-diabetes-database\n",
    "\n",
    "This will predicte whether a patient does or does not have diabetes. We have multiple predictor variables and one target variable - Outcome."
   ]
  },
  {
   "cell_type": "code",
   "execution_count": 2,
   "id": "1fcbbc5d",
   "metadata": {},
   "outputs": [],
   "source": [
    "diabetes_df = pd.read_csv(\"../datasets/diabetes.csv\")"
   ]
  },
  {
   "cell_type": "code",
   "execution_count": 3,
   "id": "ba573db7",
   "metadata": {},
   "outputs": [
    {
     "data": {
      "text/html": [
       "<div>\n",
       "<style scoped>\n",
       "    .dataframe tbody tr th:only-of-type {\n",
       "        vertical-align: middle;\n",
       "    }\n",
       "\n",
       "    .dataframe tbody tr th {\n",
       "        vertical-align: top;\n",
       "    }\n",
       "\n",
       "    .dataframe thead th {\n",
       "        text-align: right;\n",
       "    }\n",
       "</style>\n",
       "<table border=\"1\" class=\"dataframe\">\n",
       "  <thead>\n",
       "    <tr style=\"text-align: right;\">\n",
       "      <th></th>\n",
       "      <th>Pregnancies</th>\n",
       "      <th>Glucose</th>\n",
       "      <th>BloodPressure</th>\n",
       "      <th>SkinThickness</th>\n",
       "      <th>Insulin</th>\n",
       "      <th>BMI</th>\n",
       "      <th>DiabetesPedigreeFunction</th>\n",
       "      <th>Age</th>\n",
       "      <th>Outcome</th>\n",
       "    </tr>\n",
       "  </thead>\n",
       "  <tbody>\n",
       "    <tr>\n",
       "      <th>0</th>\n",
       "      <td>6</td>\n",
       "      <td>148</td>\n",
       "      <td>72</td>\n",
       "      <td>35</td>\n",
       "      <td>0</td>\n",
       "      <td>33.6</td>\n",
       "      <td>0.627</td>\n",
       "      <td>50</td>\n",
       "      <td>1</td>\n",
       "    </tr>\n",
       "    <tr>\n",
       "      <th>1</th>\n",
       "      <td>1</td>\n",
       "      <td>85</td>\n",
       "      <td>66</td>\n",
       "      <td>29</td>\n",
       "      <td>0</td>\n",
       "      <td>26.6</td>\n",
       "      <td>0.351</td>\n",
       "      <td>31</td>\n",
       "      <td>0</td>\n",
       "    </tr>\n",
       "    <tr>\n",
       "      <th>2</th>\n",
       "      <td>8</td>\n",
       "      <td>183</td>\n",
       "      <td>64</td>\n",
       "      <td>0</td>\n",
       "      <td>0</td>\n",
       "      <td>23.3</td>\n",
       "      <td>0.672</td>\n",
       "      <td>32</td>\n",
       "      <td>1</td>\n",
       "    </tr>\n",
       "    <tr>\n",
       "      <th>3</th>\n",
       "      <td>1</td>\n",
       "      <td>89</td>\n",
       "      <td>66</td>\n",
       "      <td>23</td>\n",
       "      <td>94</td>\n",
       "      <td>28.1</td>\n",
       "      <td>0.167</td>\n",
       "      <td>21</td>\n",
       "      <td>0</td>\n",
       "    </tr>\n",
       "    <tr>\n",
       "      <th>4</th>\n",
       "      <td>0</td>\n",
       "      <td>137</td>\n",
       "      <td>40</td>\n",
       "      <td>35</td>\n",
       "      <td>168</td>\n",
       "      <td>43.1</td>\n",
       "      <td>2.288</td>\n",
       "      <td>33</td>\n",
       "      <td>1</td>\n",
       "    </tr>\n",
       "  </tbody>\n",
       "</table>\n",
       "</div>"
      ],
      "text/plain": [
       "   Pregnancies  Glucose  BloodPressure  SkinThickness  Insulin   BMI  \\\n",
       "0            6      148             72             35        0  33.6   \n",
       "1            1       85             66             29        0  26.6   \n",
       "2            8      183             64              0        0  23.3   \n",
       "3            1       89             66             23       94  28.1   \n",
       "4            0      137             40             35      168  43.1   \n",
       "\n",
       "   DiabetesPedigreeFunction  Age  Outcome  \n",
       "0                     0.627   50        1  \n",
       "1                     0.351   31        0  \n",
       "2                     0.672   32        1  \n",
       "3                     0.167   21        0  \n",
       "4                     2.288   33        1  "
      ]
     },
     "execution_count": 3,
     "metadata": {},
     "output_type": "execute_result"
    }
   ],
   "source": [
    "diabetes_df.head()"
   ]
  },
  {
   "cell_type": "code",
   "execution_count": 4,
   "id": "293b85ae",
   "metadata": {},
   "outputs": [
    {
     "data": {
      "text/html": [
       "<div>\n",
       "<style scoped>\n",
       "    .dataframe tbody tr th:only-of-type {\n",
       "        vertical-align: middle;\n",
       "    }\n",
       "\n",
       "    .dataframe tbody tr th {\n",
       "        vertical-align: top;\n",
       "    }\n",
       "\n",
       "    .dataframe thead th {\n",
       "        text-align: right;\n",
       "    }\n",
       "</style>\n",
       "<table border=\"1\" class=\"dataframe\">\n",
       "  <thead>\n",
       "    <tr style=\"text-align: right;\">\n",
       "      <th></th>\n",
       "      <th>Pregnancies</th>\n",
       "      <th>Glucose</th>\n",
       "      <th>BloodPressure</th>\n",
       "      <th>SkinThickness</th>\n",
       "      <th>Insulin</th>\n",
       "      <th>BMI</th>\n",
       "      <th>DiabetesPedigreeFunction</th>\n",
       "      <th>Age</th>\n",
       "      <th>Outcome</th>\n",
       "    </tr>\n",
       "  </thead>\n",
       "  <tbody>\n",
       "    <tr>\n",
       "      <th>0</th>\n",
       "      <td>6</td>\n",
       "      <td>148</td>\n",
       "      <td>72</td>\n",
       "      <td>35</td>\n",
       "      <td>0</td>\n",
       "      <td>33.6</td>\n",
       "      <td>0.627</td>\n",
       "      <td>50</td>\n",
       "      <td>1</td>\n",
       "    </tr>\n",
       "    <tr>\n",
       "      <th>1</th>\n",
       "      <td>1</td>\n",
       "      <td>85</td>\n",
       "      <td>66</td>\n",
       "      <td>29</td>\n",
       "      <td>0</td>\n",
       "      <td>26.6</td>\n",
       "      <td>0.351</td>\n",
       "      <td>31</td>\n",
       "      <td>0</td>\n",
       "    </tr>\n",
       "    <tr>\n",
       "      <th>2</th>\n",
       "      <td>8</td>\n",
       "      <td>183</td>\n",
       "      <td>64</td>\n",
       "      <td>0</td>\n",
       "      <td>0</td>\n",
       "      <td>23.3</td>\n",
       "      <td>0.672</td>\n",
       "      <td>32</td>\n",
       "      <td>1</td>\n",
       "    </tr>\n",
       "    <tr>\n",
       "      <th>3</th>\n",
       "      <td>1</td>\n",
       "      <td>89</td>\n",
       "      <td>66</td>\n",
       "      <td>23</td>\n",
       "      <td>94</td>\n",
       "      <td>28.1</td>\n",
       "      <td>0.167</td>\n",
       "      <td>21</td>\n",
       "      <td>0</td>\n",
       "    </tr>\n",
       "    <tr>\n",
       "      <th>4</th>\n",
       "      <td>0</td>\n",
       "      <td>137</td>\n",
       "      <td>40</td>\n",
       "      <td>35</td>\n",
       "      <td>168</td>\n",
       "      <td>43.1</td>\n",
       "      <td>2.288</td>\n",
       "      <td>33</td>\n",
       "      <td>1</td>\n",
       "    </tr>\n",
       "    <tr>\n",
       "      <th>...</th>\n",
       "      <td>...</td>\n",
       "      <td>...</td>\n",
       "      <td>...</td>\n",
       "      <td>...</td>\n",
       "      <td>...</td>\n",
       "      <td>...</td>\n",
       "      <td>...</td>\n",
       "      <td>...</td>\n",
       "      <td>...</td>\n",
       "    </tr>\n",
       "    <tr>\n",
       "      <th>763</th>\n",
       "      <td>10</td>\n",
       "      <td>101</td>\n",
       "      <td>76</td>\n",
       "      <td>48</td>\n",
       "      <td>180</td>\n",
       "      <td>32.9</td>\n",
       "      <td>0.171</td>\n",
       "      <td>63</td>\n",
       "      <td>0</td>\n",
       "    </tr>\n",
       "    <tr>\n",
       "      <th>764</th>\n",
       "      <td>2</td>\n",
       "      <td>122</td>\n",
       "      <td>70</td>\n",
       "      <td>27</td>\n",
       "      <td>0</td>\n",
       "      <td>36.8</td>\n",
       "      <td>0.340</td>\n",
       "      <td>27</td>\n",
       "      <td>0</td>\n",
       "    </tr>\n",
       "    <tr>\n",
       "      <th>765</th>\n",
       "      <td>5</td>\n",
       "      <td>121</td>\n",
       "      <td>72</td>\n",
       "      <td>23</td>\n",
       "      <td>112</td>\n",
       "      <td>26.2</td>\n",
       "      <td>0.245</td>\n",
       "      <td>30</td>\n",
       "      <td>0</td>\n",
       "    </tr>\n",
       "    <tr>\n",
       "      <th>766</th>\n",
       "      <td>1</td>\n",
       "      <td>126</td>\n",
       "      <td>60</td>\n",
       "      <td>0</td>\n",
       "      <td>0</td>\n",
       "      <td>30.1</td>\n",
       "      <td>0.349</td>\n",
       "      <td>47</td>\n",
       "      <td>1</td>\n",
       "    </tr>\n",
       "    <tr>\n",
       "      <th>767</th>\n",
       "      <td>1</td>\n",
       "      <td>93</td>\n",
       "      <td>70</td>\n",
       "      <td>31</td>\n",
       "      <td>0</td>\n",
       "      <td>30.4</td>\n",
       "      <td>0.315</td>\n",
       "      <td>23</td>\n",
       "      <td>0</td>\n",
       "    </tr>\n",
       "  </tbody>\n",
       "</table>\n",
       "<p>768 rows × 9 columns</p>\n",
       "</div>"
      ],
      "text/plain": [
       "     Pregnancies  Glucose  BloodPressure  SkinThickness  Insulin   BMI  \\\n",
       "0              6      148             72             35        0  33.6   \n",
       "1              1       85             66             29        0  26.6   \n",
       "2              8      183             64              0        0  23.3   \n",
       "3              1       89             66             23       94  28.1   \n",
       "4              0      137             40             35      168  43.1   \n",
       "..           ...      ...            ...            ...      ...   ...   \n",
       "763           10      101             76             48      180  32.9   \n",
       "764            2      122             70             27        0  36.8   \n",
       "765            5      121             72             23      112  26.2   \n",
       "766            1      126             60              0        0  30.1   \n",
       "767            1       93             70             31        0  30.4   \n",
       "\n",
       "     DiabetesPedigreeFunction  Age  Outcome  \n",
       "0                       0.627   50        1  \n",
       "1                       0.351   31        0  \n",
       "2                       0.672   32        1  \n",
       "3                       0.167   21        0  \n",
       "4                       2.288   33        1  \n",
       "..                        ...  ...      ...  \n",
       "763                     0.171   63        0  \n",
       "764                     0.340   27        0  \n",
       "765                     0.245   30        0  \n",
       "766                     0.349   47        1  \n",
       "767                     0.315   23        0  \n",
       "\n",
       "[768 rows x 9 columns]"
      ]
     },
     "execution_count": 4,
     "metadata": {},
     "output_type": "execute_result"
    }
   ],
   "source": [
    "diabetes_df"
   ]
  },
  {
   "cell_type": "code",
   "execution_count": 5,
   "id": "3b1c3a9d",
   "metadata": {},
   "outputs": [
    {
     "name": "stdout",
     "output_type": "stream",
     "text": [
      "<class 'pandas.core.frame.DataFrame'>\n",
      "RangeIndex: 768 entries, 0 to 767\n",
      "Data columns (total 9 columns):\n",
      " #   Column                    Non-Null Count  Dtype  \n",
      "---  ------                    --------------  -----  \n",
      " 0   Pregnancies               768 non-null    int64  \n",
      " 1   Glucose                   768 non-null    int64  \n",
      " 2   BloodPressure             768 non-null    int64  \n",
      " 3   SkinThickness             768 non-null    int64  \n",
      " 4   Insulin                   768 non-null    int64  \n",
      " 5   BMI                       768 non-null    float64\n",
      " 6   DiabetesPedigreeFunction  768 non-null    float64\n",
      " 7   Age                       768 non-null    int64  \n",
      " 8   Outcome                   768 non-null    int64  \n",
      "dtypes: float64(2), int64(7)\n",
      "memory usage: 54.1 KB\n"
     ]
    }
   ],
   "source": [
    "diabetes_df.info()"
   ]
  },
  {
   "cell_type": "code",
   "execution_count": 6,
   "id": "b0a0bb92",
   "metadata": {},
   "outputs": [
    {
     "data": {
      "text/plain": [
       "(768, 9)"
      ]
     },
     "execution_count": 6,
     "metadata": {},
     "output_type": "execute_result"
    }
   ],
   "source": [
    "diabetes_df.shape"
   ]
  },
  {
   "cell_type": "code",
   "execution_count": 7,
   "id": "29762223",
   "metadata": {},
   "outputs": [
    {
     "data": {
      "text/plain": [
       "6912"
      ]
     },
     "execution_count": 7,
     "metadata": {},
     "output_type": "execute_result"
    }
   ],
   "source": [
    "diabetes_df.size"
   ]
  },
  {
   "cell_type": "code",
   "execution_count": 8,
   "id": "27277511",
   "metadata": {},
   "outputs": [
    {
     "data": {
      "text/plain": [
       "2"
      ]
     },
     "execution_count": 8,
     "metadata": {},
     "output_type": "execute_result"
    }
   ],
   "source": [
    "diabetes_df.ndim"
   ]
  },
  {
   "cell_type": "code",
   "execution_count": 9,
   "id": "8e7376d7",
   "metadata": {},
   "outputs": [
    {
     "data": {
      "text/html": [
       "<div>\n",
       "<style scoped>\n",
       "    .dataframe tbody tr th:only-of-type {\n",
       "        vertical-align: middle;\n",
       "    }\n",
       "\n",
       "    .dataframe tbody tr th {\n",
       "        vertical-align: top;\n",
       "    }\n",
       "\n",
       "    .dataframe thead th {\n",
       "        text-align: right;\n",
       "    }\n",
       "</style>\n",
       "<table border=\"1\" class=\"dataframe\">\n",
       "  <thead>\n",
       "    <tr style=\"text-align: right;\">\n",
       "      <th></th>\n",
       "      <th>count</th>\n",
       "      <th>mean</th>\n",
       "      <th>std</th>\n",
       "      <th>min</th>\n",
       "      <th>25%</th>\n",
       "      <th>50%</th>\n",
       "      <th>75%</th>\n",
       "      <th>max</th>\n",
       "    </tr>\n",
       "  </thead>\n",
       "  <tbody>\n",
       "    <tr>\n",
       "      <th>Pregnancies</th>\n",
       "      <td>768.0</td>\n",
       "      <td>3.845052</td>\n",
       "      <td>3.369578</td>\n",
       "      <td>0.000</td>\n",
       "      <td>1.00000</td>\n",
       "      <td>3.0000</td>\n",
       "      <td>6.00000</td>\n",
       "      <td>17.00</td>\n",
       "    </tr>\n",
       "    <tr>\n",
       "      <th>Glucose</th>\n",
       "      <td>768.0</td>\n",
       "      <td>120.894531</td>\n",
       "      <td>31.972618</td>\n",
       "      <td>0.000</td>\n",
       "      <td>99.00000</td>\n",
       "      <td>117.0000</td>\n",
       "      <td>140.25000</td>\n",
       "      <td>199.00</td>\n",
       "    </tr>\n",
       "    <tr>\n",
       "      <th>BloodPressure</th>\n",
       "      <td>768.0</td>\n",
       "      <td>69.105469</td>\n",
       "      <td>19.355807</td>\n",
       "      <td>0.000</td>\n",
       "      <td>62.00000</td>\n",
       "      <td>72.0000</td>\n",
       "      <td>80.00000</td>\n",
       "      <td>122.00</td>\n",
       "    </tr>\n",
       "    <tr>\n",
       "      <th>SkinThickness</th>\n",
       "      <td>768.0</td>\n",
       "      <td>20.536458</td>\n",
       "      <td>15.952218</td>\n",
       "      <td>0.000</td>\n",
       "      <td>0.00000</td>\n",
       "      <td>23.0000</td>\n",
       "      <td>32.00000</td>\n",
       "      <td>99.00</td>\n",
       "    </tr>\n",
       "    <tr>\n",
       "      <th>Insulin</th>\n",
       "      <td>768.0</td>\n",
       "      <td>79.799479</td>\n",
       "      <td>115.244002</td>\n",
       "      <td>0.000</td>\n",
       "      <td>0.00000</td>\n",
       "      <td>30.5000</td>\n",
       "      <td>127.25000</td>\n",
       "      <td>846.00</td>\n",
       "    </tr>\n",
       "    <tr>\n",
       "      <th>BMI</th>\n",
       "      <td>768.0</td>\n",
       "      <td>31.992578</td>\n",
       "      <td>7.884160</td>\n",
       "      <td>0.000</td>\n",
       "      <td>27.30000</td>\n",
       "      <td>32.0000</td>\n",
       "      <td>36.60000</td>\n",
       "      <td>67.10</td>\n",
       "    </tr>\n",
       "    <tr>\n",
       "      <th>DiabetesPedigreeFunction</th>\n",
       "      <td>768.0</td>\n",
       "      <td>0.471876</td>\n",
       "      <td>0.331329</td>\n",
       "      <td>0.078</td>\n",
       "      <td>0.24375</td>\n",
       "      <td>0.3725</td>\n",
       "      <td>0.62625</td>\n",
       "      <td>2.42</td>\n",
       "    </tr>\n",
       "    <tr>\n",
       "      <th>Age</th>\n",
       "      <td>768.0</td>\n",
       "      <td>33.240885</td>\n",
       "      <td>11.760232</td>\n",
       "      <td>21.000</td>\n",
       "      <td>24.00000</td>\n",
       "      <td>29.0000</td>\n",
       "      <td>41.00000</td>\n",
       "      <td>81.00</td>\n",
       "    </tr>\n",
       "    <tr>\n",
       "      <th>Outcome</th>\n",
       "      <td>768.0</td>\n",
       "      <td>0.348958</td>\n",
       "      <td>0.476951</td>\n",
       "      <td>0.000</td>\n",
       "      <td>0.00000</td>\n",
       "      <td>0.0000</td>\n",
       "      <td>1.00000</td>\n",
       "      <td>1.00</td>\n",
       "    </tr>\n",
       "  </tbody>\n",
       "</table>\n",
       "</div>"
      ],
      "text/plain": [
       "                          count        mean         std     min       25%  \\\n",
       "Pregnancies               768.0    3.845052    3.369578   0.000   1.00000   \n",
       "Glucose                   768.0  120.894531   31.972618   0.000  99.00000   \n",
       "BloodPressure             768.0   69.105469   19.355807   0.000  62.00000   \n",
       "SkinThickness             768.0   20.536458   15.952218   0.000   0.00000   \n",
       "Insulin                   768.0   79.799479  115.244002   0.000   0.00000   \n",
       "BMI                       768.0   31.992578    7.884160   0.000  27.30000   \n",
       "DiabetesPedigreeFunction  768.0    0.471876    0.331329   0.078   0.24375   \n",
       "Age                       768.0   33.240885   11.760232  21.000  24.00000   \n",
       "Outcome                   768.0    0.348958    0.476951   0.000   0.00000   \n",
       "\n",
       "                               50%        75%     max  \n",
       "Pregnancies                 3.0000    6.00000   17.00  \n",
       "Glucose                   117.0000  140.25000  199.00  \n",
       "BloodPressure              72.0000   80.00000  122.00  \n",
       "SkinThickness              23.0000   32.00000   99.00  \n",
       "Insulin                    30.5000  127.25000  846.00  \n",
       "BMI                        32.0000   36.60000   67.10  \n",
       "DiabetesPedigreeFunction    0.3725    0.62625    2.42  \n",
       "Age                        29.0000   41.00000   81.00  \n",
       "Outcome                     0.0000    1.00000    1.00  "
      ]
     },
     "execution_count": 9,
     "metadata": {},
     "output_type": "execute_result"
    }
   ],
   "source": [
    "# The .T at the end displays the transpose i.e. we flip the columns to be the rows and rows become the columns\n",
    "diabetes_df.describe().T"
   ]
  },
  {
   "cell_type": "code",
   "execution_count": 10,
   "id": "05e3cf5a",
   "metadata": {},
   "outputs": [
    {
     "data": {
      "text/html": [
       "<div>\n",
       "<style scoped>\n",
       "    .dataframe tbody tr th:only-of-type {\n",
       "        vertical-align: middle;\n",
       "    }\n",
       "\n",
       "    .dataframe tbody tr th {\n",
       "        vertical-align: top;\n",
       "    }\n",
       "\n",
       "    .dataframe thead th {\n",
       "        text-align: right;\n",
       "    }\n",
       "</style>\n",
       "<table border=\"1\" class=\"dataframe\">\n",
       "  <thead>\n",
       "    <tr style=\"text-align: right;\">\n",
       "      <th></th>\n",
       "      <th>Pregnancies</th>\n",
       "      <th>Glucose</th>\n",
       "      <th>BloodPressure</th>\n",
       "      <th>SkinThickness</th>\n",
       "      <th>Insulin</th>\n",
       "      <th>BMI</th>\n",
       "      <th>DiabetesPedigreeFunction</th>\n",
       "      <th>Age</th>\n",
       "      <th>Outcome</th>\n",
       "    </tr>\n",
       "  </thead>\n",
       "  <tbody>\n",
       "    <tr>\n",
       "      <th>686</th>\n",
       "      <td>3</td>\n",
       "      <td>130</td>\n",
       "      <td>64</td>\n",
       "      <td>0</td>\n",
       "      <td>0</td>\n",
       "      <td>23.1</td>\n",
       "      <td>0.314</td>\n",
       "      <td>22</td>\n",
       "      <td>0</td>\n",
       "    </tr>\n",
       "    <tr>\n",
       "      <th>109</th>\n",
       "      <td>0</td>\n",
       "      <td>95</td>\n",
       "      <td>85</td>\n",
       "      <td>25</td>\n",
       "      <td>36</td>\n",
       "      <td>37.4</td>\n",
       "      <td>0.247</td>\n",
       "      <td>24</td>\n",
       "      <td>1</td>\n",
       "    </tr>\n",
       "    <tr>\n",
       "      <th>309</th>\n",
       "      <td>2</td>\n",
       "      <td>124</td>\n",
       "      <td>68</td>\n",
       "      <td>28</td>\n",
       "      <td>205</td>\n",
       "      <td>32.9</td>\n",
       "      <td>0.875</td>\n",
       "      <td>30</td>\n",
       "      <td>1</td>\n",
       "    </tr>\n",
       "    <tr>\n",
       "      <th>189</th>\n",
       "      <td>5</td>\n",
       "      <td>139</td>\n",
       "      <td>80</td>\n",
       "      <td>35</td>\n",
       "      <td>160</td>\n",
       "      <td>31.6</td>\n",
       "      <td>0.361</td>\n",
       "      <td>25</td>\n",
       "      <td>1</td>\n",
       "    </tr>\n",
       "    <tr>\n",
       "      <th>402</th>\n",
       "      <td>5</td>\n",
       "      <td>136</td>\n",
       "      <td>84</td>\n",
       "      <td>41</td>\n",
       "      <td>88</td>\n",
       "      <td>35.0</td>\n",
       "      <td>0.286</td>\n",
       "      <td>35</td>\n",
       "      <td>1</td>\n",
       "    </tr>\n",
       "  </tbody>\n",
       "</table>\n",
       "</div>"
      ],
      "text/plain": [
       "     Pregnancies  Glucose  BloodPressure  SkinThickness  Insulin   BMI  \\\n",
       "686            3      130             64              0        0  23.1   \n",
       "109            0       95             85             25       36  37.4   \n",
       "309            2      124             68             28      205  32.9   \n",
       "189            5      139             80             35      160  31.6   \n",
       "402            5      136             84             41       88  35.0   \n",
       "\n",
       "     DiabetesPedigreeFunction  Age  Outcome  \n",
       "686                     0.314   22        0  \n",
       "109                     0.247   24        1  \n",
       "309                     0.875   30        1  \n",
       "189                     0.361   25        1  \n",
       "402                     0.286   35        1  "
      ]
     },
     "execution_count": 10,
     "metadata": {},
     "output_type": "execute_result"
    }
   ],
   "source": [
    "diabetes_df.sample(n=5)"
   ]
  },
  {
   "cell_type": "markdown",
   "id": "1cf5c152",
   "metadata": {},
   "source": [
    "Verify if any null values in the dataframe for a given data column."
   ]
  },
  {
   "cell_type": "code",
   "execution_count": 11,
   "id": "e285935f",
   "metadata": {},
   "outputs": [
    {
     "data": {
      "text/plain": [
       "Pregnancies                 0\n",
       "Glucose                     0\n",
       "BloodPressure               0\n",
       "SkinThickness               0\n",
       "Insulin                     0\n",
       "BMI                         0\n",
       "DiabetesPedigreeFunction    0\n",
       "Age                         0\n",
       "Outcome                     0\n",
       "dtype: int64"
      ]
     },
     "execution_count": 11,
     "metadata": {},
     "output_type": "execute_result"
    }
   ],
   "source": [
    "diabetes_df.isnull().sum()"
   ]
  },
  {
   "cell_type": "code",
   "execution_count": 12,
   "id": "9d4ac565",
   "metadata": {},
   "outputs": [
    {
     "data": {
      "text/plain": [
       "Pregnancies                  17\n",
       "Glucose                     136\n",
       "BloodPressure                47\n",
       "SkinThickness                51\n",
       "Insulin                     186\n",
       "BMI                         248\n",
       "DiabetesPedigreeFunction    517\n",
       "Age                          52\n",
       "Outcome                       2\n",
       "dtype: int64"
      ]
     },
     "execution_count": 12,
     "metadata": {},
     "output_type": "execute_result"
    }
   ],
   "source": [
    "diabetes_df.nunique()"
   ]
  },
  {
   "cell_type": "code",
   "execution_count": 13,
   "id": "e50a1078",
   "metadata": {},
   "outputs": [
    {
     "data": {
      "text/plain": [
       "Index(['Pregnancies', 'Glucose', 'BloodPressure', 'SkinThickness', 'Insulin',\n",
       "       'BMI', 'DiabetesPedigreeFunction', 'Age', 'Outcome'],\n",
       "      dtype='object')"
      ]
     },
     "execution_count": 13,
     "metadata": {},
     "output_type": "execute_result"
    }
   ],
   "source": [
    "diabetes_df.columns"
   ]
  },
  {
   "cell_type": "code",
   "execution_count": 14,
   "id": "9a0c8ddd",
   "metadata": {},
   "outputs": [
    {
     "data": {
      "text/plain": [
       "Pregnancies                   int64\n",
       "Glucose                       int64\n",
       "BloodPressure                 int64\n",
       "SkinThickness                 int64\n",
       "Insulin                       int64\n",
       "BMI                         float64\n",
       "DiabetesPedigreeFunction    float64\n",
       "Age                           int64\n",
       "Outcome                       int64\n",
       "dtype: object"
      ]
     },
     "execution_count": 14,
     "metadata": {},
     "output_type": "execute_result"
    }
   ],
   "source": [
    "diabetes_df.dtypes"
   ]
  },
  {
   "cell_type": "markdown",
   "id": "db1d8176",
   "metadata": {},
   "source": [
    "The following calculates the pairwise correlation of columns. It does not include NA/null values.\n",
    "- https://pandas.pydata.org/pandas-docs/stable/reference/api/pandas.DataFrame.corr.html"
   ]
  },
  {
   "cell_type": "code",
   "execution_count": 15,
   "id": "6a7e9a03",
   "metadata": {},
   "outputs": [
    {
     "data": {
      "text/html": [
       "<div>\n",
       "<style scoped>\n",
       "    .dataframe tbody tr th:only-of-type {\n",
       "        vertical-align: middle;\n",
       "    }\n",
       "\n",
       "    .dataframe tbody tr th {\n",
       "        vertical-align: top;\n",
       "    }\n",
       "\n",
       "    .dataframe thead th {\n",
       "        text-align: right;\n",
       "    }\n",
       "</style>\n",
       "<table border=\"1\" class=\"dataframe\">\n",
       "  <thead>\n",
       "    <tr style=\"text-align: right;\">\n",
       "      <th></th>\n",
       "      <th>Pregnancies</th>\n",
       "      <th>Glucose</th>\n",
       "      <th>BloodPressure</th>\n",
       "      <th>SkinThickness</th>\n",
       "      <th>Insulin</th>\n",
       "      <th>BMI</th>\n",
       "      <th>DiabetesPedigreeFunction</th>\n",
       "      <th>Age</th>\n",
       "      <th>Outcome</th>\n",
       "    </tr>\n",
       "  </thead>\n",
       "  <tbody>\n",
       "    <tr>\n",
       "      <th>Pregnancies</th>\n",
       "      <td>1.000000</td>\n",
       "      <td>0.129459</td>\n",
       "      <td>0.141282</td>\n",
       "      <td>-0.081672</td>\n",
       "      <td>-0.073535</td>\n",
       "      <td>0.017683</td>\n",
       "      <td>-0.033523</td>\n",
       "      <td>0.544341</td>\n",
       "      <td>0.221898</td>\n",
       "    </tr>\n",
       "    <tr>\n",
       "      <th>Glucose</th>\n",
       "      <td>0.129459</td>\n",
       "      <td>1.000000</td>\n",
       "      <td>0.152590</td>\n",
       "      <td>0.057328</td>\n",
       "      <td>0.331357</td>\n",
       "      <td>0.221071</td>\n",
       "      <td>0.137337</td>\n",
       "      <td>0.263514</td>\n",
       "      <td>0.466581</td>\n",
       "    </tr>\n",
       "    <tr>\n",
       "      <th>BloodPressure</th>\n",
       "      <td>0.141282</td>\n",
       "      <td>0.152590</td>\n",
       "      <td>1.000000</td>\n",
       "      <td>0.207371</td>\n",
       "      <td>0.088933</td>\n",
       "      <td>0.281805</td>\n",
       "      <td>0.041265</td>\n",
       "      <td>0.239528</td>\n",
       "      <td>0.065068</td>\n",
       "    </tr>\n",
       "    <tr>\n",
       "      <th>SkinThickness</th>\n",
       "      <td>-0.081672</td>\n",
       "      <td>0.057328</td>\n",
       "      <td>0.207371</td>\n",
       "      <td>1.000000</td>\n",
       "      <td>0.436783</td>\n",
       "      <td>0.392573</td>\n",
       "      <td>0.183928</td>\n",
       "      <td>-0.113970</td>\n",
       "      <td>0.074752</td>\n",
       "    </tr>\n",
       "    <tr>\n",
       "      <th>Insulin</th>\n",
       "      <td>-0.073535</td>\n",
       "      <td>0.331357</td>\n",
       "      <td>0.088933</td>\n",
       "      <td>0.436783</td>\n",
       "      <td>1.000000</td>\n",
       "      <td>0.197859</td>\n",
       "      <td>0.185071</td>\n",
       "      <td>-0.042163</td>\n",
       "      <td>0.130548</td>\n",
       "    </tr>\n",
       "    <tr>\n",
       "      <th>BMI</th>\n",
       "      <td>0.017683</td>\n",
       "      <td>0.221071</td>\n",
       "      <td>0.281805</td>\n",
       "      <td>0.392573</td>\n",
       "      <td>0.197859</td>\n",
       "      <td>1.000000</td>\n",
       "      <td>0.140647</td>\n",
       "      <td>0.036242</td>\n",
       "      <td>0.292695</td>\n",
       "    </tr>\n",
       "    <tr>\n",
       "      <th>DiabetesPedigreeFunction</th>\n",
       "      <td>-0.033523</td>\n",
       "      <td>0.137337</td>\n",
       "      <td>0.041265</td>\n",
       "      <td>0.183928</td>\n",
       "      <td>0.185071</td>\n",
       "      <td>0.140647</td>\n",
       "      <td>1.000000</td>\n",
       "      <td>0.033561</td>\n",
       "      <td>0.173844</td>\n",
       "    </tr>\n",
       "    <tr>\n",
       "      <th>Age</th>\n",
       "      <td>0.544341</td>\n",
       "      <td>0.263514</td>\n",
       "      <td>0.239528</td>\n",
       "      <td>-0.113970</td>\n",
       "      <td>-0.042163</td>\n",
       "      <td>0.036242</td>\n",
       "      <td>0.033561</td>\n",
       "      <td>1.000000</td>\n",
       "      <td>0.238356</td>\n",
       "    </tr>\n",
       "    <tr>\n",
       "      <th>Outcome</th>\n",
       "      <td>0.221898</td>\n",
       "      <td>0.466581</td>\n",
       "      <td>0.065068</td>\n",
       "      <td>0.074752</td>\n",
       "      <td>0.130548</td>\n",
       "      <td>0.292695</td>\n",
       "      <td>0.173844</td>\n",
       "      <td>0.238356</td>\n",
       "      <td>1.000000</td>\n",
       "    </tr>\n",
       "  </tbody>\n",
       "</table>\n",
       "</div>"
      ],
      "text/plain": [
       "                          Pregnancies   Glucose  BloodPressure  SkinThickness  \\\n",
       "Pregnancies                  1.000000  0.129459       0.141282      -0.081672   \n",
       "Glucose                      0.129459  1.000000       0.152590       0.057328   \n",
       "BloodPressure                0.141282  0.152590       1.000000       0.207371   \n",
       "SkinThickness               -0.081672  0.057328       0.207371       1.000000   \n",
       "Insulin                     -0.073535  0.331357       0.088933       0.436783   \n",
       "BMI                          0.017683  0.221071       0.281805       0.392573   \n",
       "DiabetesPedigreeFunction    -0.033523  0.137337       0.041265       0.183928   \n",
       "Age                          0.544341  0.263514       0.239528      -0.113970   \n",
       "Outcome                      0.221898  0.466581       0.065068       0.074752   \n",
       "\n",
       "                           Insulin       BMI  DiabetesPedigreeFunction  \\\n",
       "Pregnancies              -0.073535  0.017683                 -0.033523   \n",
       "Glucose                   0.331357  0.221071                  0.137337   \n",
       "BloodPressure             0.088933  0.281805                  0.041265   \n",
       "SkinThickness             0.436783  0.392573                  0.183928   \n",
       "Insulin                   1.000000  0.197859                  0.185071   \n",
       "BMI                       0.197859  1.000000                  0.140647   \n",
       "DiabetesPedigreeFunction  0.185071  0.140647                  1.000000   \n",
       "Age                      -0.042163  0.036242                  0.033561   \n",
       "Outcome                   0.130548  0.292695                  0.173844   \n",
       "\n",
       "                               Age   Outcome  \n",
       "Pregnancies               0.544341  0.221898  \n",
       "Glucose                   0.263514  0.466581  \n",
       "BloodPressure             0.239528  0.065068  \n",
       "SkinThickness            -0.113970  0.074752  \n",
       "Insulin                  -0.042163  0.130548  \n",
       "BMI                       0.036242  0.292695  \n",
       "DiabetesPedigreeFunction  0.033561  0.173844  \n",
       "Age                       1.000000  0.238356  \n",
       "Outcome                   0.238356  1.000000  "
      ]
     },
     "execution_count": 15,
     "metadata": {},
     "output_type": "execute_result"
    }
   ],
   "source": [
    "diabetes_df.corr()"
   ]
  },
  {
   "cell_type": "markdown",
   "id": "5ad661ce",
   "metadata": {},
   "source": [
    "Produce data visualization histogram plots for the pandas dataframe for the diabetes dataset and focus on the input feature distributions as we are going to scale the input data before training the model."
   ]
  },
  {
   "cell_type": "code",
   "execution_count": 16,
   "id": "f9a2d90d",
   "metadata": {},
   "outputs": [
    {
     "data": {
      "image/png": "[encoded data removed]",
      "text/plain": [
       "<Figure size 1500x1000 with 9 Axes>"
      ]
     },
     "metadata": {},
     "output_type": "display_data"
    }
   ],
   "source": [
    "# Get histogram for each numeric variable - 9 variables so layout = 3x3\n",
    "features_including_output_label = ['Pregnancies', 'Glucose', 'BloodPressure', 'SkinThickness', 'Insulin', 'BMI', 'DiabetesPedigreeFunction', 'Age', 'Outcome']\n",
    "diabetes_df[features_including_output_label].hist(bins=15, figsize=(15, 10), layout=(3, 3));"
   ]
  },
  {
   "cell_type": "markdown",
   "id": "3b20ba04",
   "metadata": {},
   "source": [
    "##### Transform the dataset input features\n",
    "Transform the data input features. This is important for SVM as sklearn guides recommend it and SVM may not perform well without the preprocessing transformation."
   ]
  },
  {
   "cell_type": "code",
   "execution_count": 17,
   "id": "109782ca",
   "metadata": {},
   "outputs": [],
   "source": [
    "from sklearn import preprocessing"
   ]
  },
  {
   "cell_type": "markdown",
   "id": "9627983e",
   "metadata": {},
   "source": [
    "For SVM, perform the transformation on all features of the dataset, omitting the response variable."
   ]
  },
  {
   "cell_type": "code",
   "execution_count": 18,
   "id": "c3366ac7",
   "metadata": {},
   "outputs": [],
   "source": [
    "# make a copy of the original dataframe\n",
    "diabetes_df_scaled = diabetes_df.iloc[: , :8]"
   ]
  },
  {
   "cell_type": "code",
   "execution_count": 19,
   "id": "146b5237",
   "metadata": {},
   "outputs": [],
   "source": [
    "diabetes_df_scaled = preprocessing.scale(diabetes_df_scaled)"
   ]
  },
  {
   "cell_type": "markdown",
   "id": "e6da958b",
   "metadata": {},
   "source": [
    "##### Create a train:test split on the dataset\n",
    "Next, we define our train:test split using sklearn library. This lets us defined our supervised learning training set and a holdout test data subset. We will use a 10% portion of the dataset as a test set. We will use this to test the accuracy of the ML model on data it has not seen before in training and if it has overfit during training or can generalize to unseen data."
   ]
  },
  {
   "cell_type": "code",
   "execution_count": 20,
   "id": "bb3b3962",
   "metadata": {},
   "outputs": [],
   "source": [
    "# split into features and categorical predictor variable (0 or 1)\n",
    "X = diabetes_df_scaled#.iloc[: , :8]\n",
    "y = diabetes_df.iloc[: , -1]\n",
    "\n",
    "# split into train and test sets with sklearn native train_test_split 20% test, set random_state for reproducibility\n",
    "X_train, X_test, y_train, y_test = train_test_split(X, y, test_size=0.1, random_state=44)"
   ]
  },
  {
   "cell_type": "code",
   "execution_count": 21,
   "id": "d3f5acdd",
   "metadata": {},
   "outputs": [
    {
     "data": {
      "text/plain": [
       "array([[-0.54791859, -0.62264204, -0.57412775, ..., -1.29363432,\n",
       "        -0.95700404, -0.95646168],\n",
       "       [-0.25095213, -0.30967058, -0.36733675, ..., -1.19209893,\n",
       "        -0.99626558, -1.04154944],\n",
       "       [-0.84488505,  0.69183807,  0.25303625, ..., -0.73518964,\n",
       "        -0.65197205, -1.04154944],\n",
       "       ...,\n",
       "       [-0.84488505, -1.31117923, -0.47073225, ...,  1.4605133 ,\n",
       "         0.62251803, -0.87137393],\n",
       "       [-1.14185152,  1.88112959,  0.97680475, ...,  1.43512945,\n",
       "        -0.75465609, -0.61611067],\n",
       "       [-0.25095213,  0.25367803, -0.26394125, ..., -0.7098058 ,\n",
       "        -0.76371644, -0.44593516]])"
      ]
     },
     "execution_count": 21,
     "metadata": {},
     "output_type": "execute_result"
    }
   ],
   "source": [
    "X_train"
   ]
  },
  {
   "cell_type": "code",
   "execution_count": 22,
   "id": "c8502496",
   "metadata": {},
   "outputs": [
    {
     "data": {
      "text/plain": [
       "array([[-1.14185152, -0.93561349, -0.05715025,  0.71908574,  1.13051757,\n",
       "         1.00360402, -0.27445722, -0.70119842],\n",
       "       [-0.25095213,  1.63075243,  0.66661825,  1.72273472,  3.34465603,\n",
       "         0.81322515,  5.02887118, -0.70119842],\n",
       "       [-0.84488505,  0.81702665,  1.28699125,  1.28363829, -0.69289057,\n",
       "         2.19664492, -0.34391995, -0.53102292],\n",
       "       [-0.54791859, -0.43485916,  0.25303625,  0.59362962,  0.17539902,\n",
       "         0.20401277, -0.20499449, -0.87137393],\n",
       "       [ 2.12477957,  0.53535234,  0.25303625,  0.34271738,  0.55744644,\n",
       "         0.52131088,  0.25708367,  1.4259954 ],\n",
       "       [ 0.63994726,  0.41016376,  0.56322275,  1.03272605,  2.51978092,\n",
       "         1.80319526, -0.70633419,  1.08564439],\n",
       "       [ 1.53084665, -0.02799627,  0.14964075,  0.09180513, -0.2066484 ,\n",
       "        -1.42055357,  0.78862456,  1.2558199 ],\n",
       "       [-1.14185152, -0.62264204, -0.2122435 ,  0.4681735 , -0.69289057,\n",
       "        -0.93826044, -0.70935431, -0.95646168],\n",
       "       [-0.54791859, -0.49745345,  0.304734  , -1.28821221, -0.69289057,\n",
       "        -1.10325546,  0.26614403,  1.68125866],\n",
       "       [-0.84488505,  0.1597866 , -0.47073225, -1.28821221, -0.69289057,\n",
       "        -0.24020459, -0.37110101,  1.17073215],\n",
       "       [-0.25095213, -0.30967058, -0.67752325,  1.15818217, -0.69289057,\n",
       "        -0.24020459,  0.25708367, -0.27575966],\n",
       "       [ 0.63994726, -0.40356202, -1.29789624, -0.03365099,  0.4358859 ,\n",
       "        -1.01441198,  1.03023405,  0.14967911],\n",
       "       [-1.14185152, -1.4989621 , -3.57259724, -1.28821221, -0.69289057,\n",
       "        -1.3824778 , -0.39224185, -0.70119842],\n",
       "       [-0.54791859, -0.40356202,  0.56322275, -1.28821221, -0.69289057,\n",
       "        -0.63365425, -0.6429117 ,  1.59617091],\n",
       "       [-0.84488505, -0.8730192 ,  0.04624525,  0.65635768, -0.69289057,\n",
       "        -0.20212881, -0.47378505, -0.87137393],\n",
       "       [ 1.53084665,  0.97351238,  0.45982725,  0.84454186,  0.79188463,\n",
       "         0.28016432,  1.27184355, -0.0204964 ],\n",
       "       [ 0.04601433, -0.74783062, -0.47073225,  0.15453319, -0.69289057,\n",
       "        -0.48135115, -0.08720986, -0.95646168],\n",
       "       [ 1.53084665,  0.06589516,  0.04624525,  1.47182248,  0.12330164,\n",
       "         0.14055315, -0.29559805,  0.57511787],\n",
       "       [-0.84488505, -0.99820778, -0.16054575,  0.15453319,  0.12330164,\n",
       "        -0.49404308, -0.92076261, -1.04154944],\n",
       "       [-0.25095213,  1.31778097,  0.04624525, -0.15910711,  0.2188135 ,\n",
       "        -0.04982572, -0.61573063, -0.44593516],\n",
       "       [ 0.3429808 , -0.46615631,  0.66661825,  0.59362962, -0.69289057,\n",
       "         0.95283632, -0.56136849,  0.40494237],\n",
       "       [ 0.04601433,  1.97502103,  0.45982725,  1.15818217,  1.7122716 ,\n",
       "         0.63553821, -0.6278111 , -0.19067191],\n",
       "       [ 0.3429808 , -0.49745345,  0.14964075,  0.53090156,  2.1290506 ,\n",
       "         0.62284628, -0.94492356, -0.44593516],\n",
       "       [ 0.63994726, -0.184482  , -0.47073225,  1.15818217, -0.69289057,\n",
       "         0.2167047 , -0.68519336,  0.57511787],\n",
       "       [-1.14185152, -0.59134489,  0.304734  ,  0.15453319, -0.69289057,\n",
       "        -4.06047387,  0.30238545, -1.04154944],\n",
       "       [-0.25095213, -0.24707629, -1.29789624, -0.47274742, -0.69289057,\n",
       "        -1.21748278, -1.00230582, -0.95646168],\n",
       "       [ 0.93691372, -0.84172205, -0.26394125,  0.27998931, -0.00694179,\n",
       "         0.165937  ,  0.80372515,  0.66020563],\n",
       "       [ 0.3429808 ,  0.56664949, -0.26394125,  0.90726993,  0.52271486,\n",
       "        -0.43058346, -0.18385366, -0.61611067],\n",
       "       [-0.84488505, -0.49745345, -0.57412775, -1.28821221, -0.69289057,\n",
       "        -0.97633621, -0.86036024, -1.04154944],\n",
       "       [ 1.82781311, -0.62264204,  0.87340925,  1.03272605, -0.69289057,\n",
       "         1.72704372,  2.00573238,  0.40494237],\n",
       "       [ 0.04601433,  0.31627232, -0.05715025,  0.02907707,  0.74847015,\n",
       "         0.14055315, -0.94190344, -0.44593516],\n",
       "       [ 2.12477957, -0.30967058,  0.77001375,  1.22091023, -0.69289057,\n",
       "         1.87934681,  1.36848734,  1.00055664],\n",
       "       [ 0.93691372,  1.88112959,  0.77001375,  0.02907707,  0.97422544,\n",
       "         0.49592704,  0.34466711,  1.51108316],\n",
       "       [ 1.23388019, -0.37226487,  0.35643175,  1.15818217,  0.29695956,\n",
       "        -0.51942693,  0.50775352, -0.19067191],\n",
       "       [ 0.3429808 , -1.34247638, -1.09110524, -1.28821221, -0.69289057,\n",
       "         0.2167047 ,  0.55003518, -0.70119842],\n",
       "       [-1.14185152, -0.81042491, -0.26394125,  1.15818217,  0.2188135 ,\n",
       "         1.60012447, -0.319759  , -0.95646168],\n",
       "       [-0.84488505, -0.56004775,  0.56322275, -0.59820354,  0.01910689,\n",
       "        -1.59824051,  0.05775584, -0.95646168],\n",
       "       [ 1.23388019,  1.03610667,  0.45982725,  0.71908574, -0.69289057,\n",
       "         0.05170968, -0.08720986,  1.00055664],\n",
       "       [-0.84488505, -0.27837344,  0.56322275,  1.53455054,  0.45325169,\n",
       "         0.35631587, -0.76975668, -0.78628618],\n",
       "       [-0.54791859, -1.06080207, -3.57259724,  0.15453319, -0.69289057,\n",
       "        -0.39250768,  0.9094293 , -0.70119842],\n",
       "       [-1.14185152,  0.44146091, -0.05715025,  1.34636635,  1.47783341,\n",
       "         1.30821021, -0.32277912, -0.78628618],\n",
       "       [ 1.53084665, -0.27837344,  0.66661825,  0.21726125, -0.69289057,\n",
       "        -0.48135115,  2.44666971,  1.4259954 ],\n",
       "       [ 0.3429808 ,  2.13150675, -0.26394125,  0.7818138 ,  2.1290506 ,\n",
       "        -0.10059342,  0.33560676, -0.36084741],\n",
       "       [ 0.93691372,  0.66054092,  1.08020025,  0.21726125,  3.47489947,\n",
       "        -0.20212881, -1.03854724,  0.83038113],\n",
       "       [-1.14185152, -0.71653347,  0.66661825, -0.3472913 ,  0.03647269,\n",
       "        -0.86210889, -0.52210695, -0.95646168],\n",
       "       [-0.25095213, -0.99820778,  0.25303625, -0.28456324,  0.04515558,\n",
       "        -0.20212881,  0.23896296,  0.40494237],\n",
       "       [-0.84488505,  0.09719231,  0.25303625,  0.96999799, -0.69289057,\n",
       "        -0.53211885, -1.12311057, -0.27575966],\n",
       "       [-0.54791859,  0.41016376,  0.04624525, -1.28821221, -0.69289057,\n",
       "        -0.39250768,  0.21178189, -0.87137393],\n",
       "       [ 0.93691372, -0.21577915, -0.16054575, -1.28821221, -0.69289057,\n",
       "         0.10247738, -0.64593181,  0.74529338],\n",
       "       [ 1.82781311, -0.40356202, -0.16054575, -1.28821221, -0.69289057,\n",
       "         0.05170968, -0.60365015,  0.74529338],\n",
       "       [-0.84488505, -0.81042491,  0.25303625,  0.02907707, -0.05903917,\n",
       "        -0.77326542,  0.60741744,  0.23476686],\n",
       "       [-0.84488505,  1.31778097,  0.14964075, -1.28821221, -0.69289057,\n",
       "         0.8893767 ,  2.26546259, -0.0204964 ],\n",
       "       [ 1.82781311,  0.25367803, -0.36733675,  0.96999799, -0.69289057,\n",
       "         1.16859904, -0.0932501 ,  0.40494237],\n",
       "       [ 3.31264542,  0.47275805,  0.04624525,  0.71908574,  0.26222798,\n",
       "         0.64823013, -0.96304428,  0.83038113],\n",
       "       [-0.25095213, -1.2172878 ,  0.04624525, -1.28821221, -0.69289057,\n",
       "        -1.3824778 , -0.25029627, -0.70119842],\n",
       "       [-0.54791859, -1.46766496, -3.57259724, -1.28821221, -0.69289057,\n",
       "        -4.06047387, -1.11707033, -0.95646168],\n",
       "       [ 1.53084665, -0.59134489,  0.35643175,  1.03272605, -0.69289057,\n",
       "         0.1151693 ,  0.58325649,  1.08564439],\n",
       "       [ 0.04601433,  0.66054092,  0.87340925, -1.28821221, -0.69289057,\n",
       "         1.52397292,  0.52285411, -0.95646168],\n",
       "       [ 0.63994726,  2.31928962,  0.04624525, -1.28821221, -0.69289057,\n",
       "        -0.13866919, -0.43452351, -0.19067191],\n",
       "       [-1.14185152,  0.31627232, -3.57259724, -1.28821221, -0.69289057,\n",
       "         1.42243753, -0.60969039, -0.61611067],\n",
       "       [-1.14185152,  0.44146091,  1.28699125,  1.5972786 ,  0.56612934,\n",
       "         1.09244749, -0.56740873, -0.61611067],\n",
       "       [-0.84488505,  1.88112959, -0.26394125,  0.59362962,  0.87003069,\n",
       "         0.26747239, -0.43452351,  0.40494237],\n",
       "       [-0.54791859, -1.5615564 ,  0.04624525,  0.40544544, -0.69289057,\n",
       "        -0.506735  ,  0.34466711, -0.95646168],\n",
       "       [-0.54791859, -0.40356202, -0.36733675, -0.6609316 ,  1.72095449,\n",
       "        -0.84941697,  1.23560212, -0.95646168],\n",
       "       [-1.14185152, -0.49745345, -0.05715025,  0.09180513, -0.69289057,\n",
       "        -1.52208897, -0.71237443, -0.95646168],\n",
       "       [-0.84488505, -0.96691063, -0.36733675, -0.53547548, -0.31952605,\n",
       "        -0.6082704 ,  0.3265464 , -0.78628618],\n",
       "       [ 0.3429808 ,  1.4742667 , -0.26394125, -1.28821221, -0.69289057,\n",
       "         0.1151693 , -1.01740641,  0.66020563],\n",
       "       [-0.84488505, -0.81042491, -0.16054575, -0.47274742, -0.36294053,\n",
       "        -1.57285666, -0.4164028 , -0.70119842],\n",
       "       [ 0.3429808 , -0.15318486,  0.25303625, -1.28821221, -0.69289057,\n",
       "        -0.81134119, -0.81807858, -0.27575966],\n",
       "       [ 2.7187125 ,  1.16129525,  2.32094625, -1.28821221, -0.69289057,\n",
       "         1.30821021, -0.64895193,  0.91546889],\n",
       "       [ 0.3429808 , -0.77912776,  0.25303625, -0.15910711, -0.11113655,\n",
       "         0.20401277,  1.58593589,  0.83038113],\n",
       "       [ 2.7187125 , -0.46615631,  0.04624525, -1.28821221, -0.69289057,\n",
       "         0.28016432, -0.66707265,  1.59617091],\n",
       "       [ 1.82781311,  0.03459802, -0.05715025, -1.28821221, -0.69289057,\n",
       "        -0.10059342, -0.64593181,  0.66020563],\n",
       "       [-0.25095213, -1.27988209,  0.66661825,  0.65635768, -0.08508786,\n",
       "         0.28016432,  2.4768709 , -0.53102292],\n",
       "       [ 1.82781311, -0.30967058,  0.04624525,  0.40544544, -0.69289057,\n",
       "        -0.57019463, -0.9992857 ,  0.57511787],\n",
       "       [ 0.63994726,  0.09719231,  0.14964075, -1.28821221, -0.69289057,\n",
       "        -0.5575027 , -0.31371876, -0.36084741],\n",
       "       [-0.84488505, -0.37226487, -0.67752325,  0.02907707,  0.47930038,\n",
       "        -0.86210889,  1.09063642, -0.87137393]])"
      ]
     },
     "execution_count": 22,
     "metadata": {},
     "output_type": "execute_result"
    }
   ],
   "source": [
    "X_test"
   ]
  },
  {
   "cell_type": "code",
   "execution_count": 23,
   "id": "9149a0c8",
   "metadata": {},
   "outputs": [
    {
     "data": {
      "text/plain": [
       "(691, 8)"
      ]
     },
     "execution_count": 23,
     "metadata": {},
     "output_type": "execute_result"
    }
   ],
   "source": [
    "X_train.shape"
   ]
  },
  {
   "cell_type": "code",
   "execution_count": 24,
   "id": "61bc7bbe",
   "metadata": {},
   "outputs": [
    {
     "data": {
      "text/plain": [
       "(77, 8)"
      ]
     },
     "execution_count": 24,
     "metadata": {},
     "output_type": "execute_result"
    }
   ],
   "source": [
    "X_test.shape"
   ]
  },
  {
   "cell_type": "markdown",
   "id": "a925eaa9",
   "metadata": {},
   "source": [
    "##### Machine Learning Model and Training\n",
    "Now we create an SVM binary classifier machine learning model and fit it to our training dataset."
   ]
  },
  {
   "cell_type": "code",
   "execution_count": 25,
   "id": "94715f34",
   "metadata": {},
   "outputs": [],
   "source": [
    "svm_clf = svm.SVC(kernel='linear', C=4.0, max_iter=100000, gamma='scale', random_state=44)"
   ]
  },
  {
   "cell_type": "code",
   "execution_count": 26,
   "id": "b0fe7ef9",
   "metadata": {},
   "outputs": [
    {
     "data": {
      "text/html": [
       "<style>#sk-container-id-1 {color: black;background-color: white;}#sk-container-id-1 pre{padding: 0;}#sk-container-id-1 div.sk-toggleable {background-color: white;}#sk-container-id-1 label.sk-toggleable__label {cursor: pointer;display: block;width: 100%;margin-bottom: 0;padding: 0.3em;box-sizing: border-box;text-align: center;}#sk-container-id-1 label.sk-toggleable__label-arrow:before {content: \"▸\";float: left;margin-right: 0.25em;color: #696969;}#sk-container-id-1 label.sk-toggleable__label-arrow:hover:before {color: black;}#sk-container-id-1 div.sk-estimator:hover label.sk-toggleable__label-arrow:before {color: black;}#sk-container-id-1 div.sk-toggleable__content {max-height: 0;max-width: 0;overflow: hidden;text-align: left;background-color: #f0f8ff;}#sk-container-id-1 div.sk-toggleable__content pre {margin: 0.2em;color: black;border-radius: 0.25em;background-color: #f0f8ff;}#sk-container-id-1 input.sk-toggleable__control:checked~div.sk-toggleable__content {max-height: 200px;max-width: 100%;overflow: auto;}#sk-container-id-1 input.sk-toggleable__control:checked~label.sk-toggleable__label-arrow:before {content: \"▾\";}#sk-container-id-1 div.sk-estimator input.sk-toggleable__control:checked~label.sk-toggleable__label {background-color: #d4ebff;}#sk-container-id-1 div.sk-label input.sk-toggleable__control:checked~label.sk-toggleable__label {background-color: #d4ebff;}#sk-container-id-1 input.sk-hidden--visually {border: 0;clip: rect(1px 1px 1px 1px);clip: rect(1px, 1px, 1px, 1px);height: 1px;margin: -1px;overflow: hidden;padding: 0;position: absolute;width: 1px;}#sk-container-id-1 div.sk-estimator {font-family: monospace;background-color: #f0f8ff;border: 1px dotted black;border-radius: 0.25em;box-sizing: border-box;margin-bottom: 0.5em;}#sk-container-id-1 div.sk-estimator:hover {background-color: #d4ebff;}#sk-container-id-1 div.sk-parallel-item::after {content: \"\";width: 100%;border-bottom: 1px solid gray;flex-grow: 1;}#sk-container-id-1 div.sk-label:hover label.sk-toggleable__label {background-color: #d4ebff;}#sk-container-id-1 div.sk-serial::before {content: \"\";position: absolute;border-left: 1px solid gray;box-sizing: border-box;top: 0;bottom: 0;left: 50%;z-index: 0;}#sk-container-id-1 div.sk-serial {display: flex;flex-direction: column;align-items: center;background-color: white;padding-right: 0.2em;padding-left: 0.2em;position: relative;}#sk-container-id-1 div.sk-item {position: relative;z-index: 1;}#sk-container-id-1 div.sk-parallel {display: flex;align-items: stretch;justify-content: center;background-color: white;position: relative;}#sk-container-id-1 div.sk-item::before, #sk-container-id-1 div.sk-parallel-item::before {content: \"\";position: absolute;border-left: 1px solid gray;box-sizing: border-box;top: 0;bottom: 0;left: 50%;z-index: -1;}#sk-container-id-1 div.sk-parallel-item {display: flex;flex-direction: column;z-index: 1;position: relative;background-color: white;}#sk-container-id-1 div.sk-parallel-item:first-child::after {align-self: flex-end;width: 50%;}#sk-container-id-1 div.sk-parallel-item:last-child::after {align-self: flex-start;width: 50%;}#sk-container-id-1 div.sk-parallel-item:only-child::after {width: 0;}#sk-container-id-1 div.sk-dashed-wrapped {border: 1px dashed gray;margin: 0 0.4em 0.5em 0.4em;box-sizing: border-box;padding-bottom: 0.4em;background-color: white;}#sk-container-id-1 div.sk-label label {font-family: monospace;font-weight: bold;display: inline-block;line-height: 1.2em;}#sk-container-id-1 div.sk-label-container {text-align: center;}#sk-container-id-1 div.sk-container {/* jupyter's `normalize.less` sets `[hidden] { display: none; }` but bootstrap.min.css set `[hidden] { display: none !important; }` so we also need the `!important` here to be able to override the default hidden behavior on the sphinx rendered scikit-learn.org. See: https://github.com/scikit-learn/scikit-learn/issues/21755 */display: inline-block !important;position: relative;}#sk-container-id-1 div.sk-text-repr-fallback {display: none;}</style><div id=\"sk-container-id-1\" class=\"sk-top-container\"><div class=\"sk-text-repr-fallback\"><pre>SVC(C=4.0, kernel=&#x27;linear&#x27;, max_iter=100000, random_state=44)</pre><b>In a Jupyter environment, please rerun this cell to show the HTML representation or trust the notebook. <br />On GitHub, the HTML representation is unable to render, please try loading this page with nbviewer.org.</b></div><div class=\"sk-container\" hidden><div class=\"sk-item\"><div class=\"sk-estimator sk-toggleable\"><input class=\"sk-toggleable__control sk-hidden--visually\" id=\"sk-estimator-id-1\" type=\"checkbox\" checked><label for=\"sk-estimator-id-1\" class=\"sk-toggleable__label sk-toggleable__label-arrow\">SVC</label><div class=\"sk-toggleable__content\"><pre>SVC(C=4.0, kernel=&#x27;linear&#x27;, max_iter=100000, random_state=44)</pre></div></div></div></div></div>"
      ],
      "text/plain": [
       "SVC(C=4.0, kernel='linear', max_iter=100000, random_state=44)"
      ]
     },
     "execution_count": 26,
     "metadata": {},
     "output_type": "execute_result"
    }
   ],
   "source": [
    "svm_clf.fit(X_train, y_train)"
   ]
  },
  {
   "cell_type": "markdown",
   "id": "5412568f",
   "metadata": {},
   "source": [
    "##### SVM: Run Predictions, Evaluate Performance\n",
    "We now run the predictive analytics against the test dataset and calculate the accuracy of the ML model when predicting on new data, our test dataset."
   ]
  },
  {
   "cell_type": "code",
   "execution_count": 27,
   "id": "3988f005",
   "metadata": {},
   "outputs": [],
   "source": [
    "y_pred = svm_clf.predict(X_test)"
   ]
  },
  {
   "cell_type": "code",
   "execution_count": 28,
   "id": "37996a35",
   "metadata": {},
   "outputs": [
    {
     "data": {
      "text/plain": [
       "0.8181818181818182"
      ]
     },
     "execution_count": 28,
     "metadata": {},
     "output_type": "execute_result"
    }
   ],
   "source": [
    "svm_clf.score(X_test, y_test)\n",
    "# svm_clf.score(X_train, y_train) # score ml model against training data only"
   ]
  },
  {
   "cell_type": "markdown",
   "id": "55c76bd2",
   "metadata": {},
   "source": [
    "Include the sklearn classification report for precision, recall, f1-score, and support metrics."
   ]
  },
  {
   "cell_type": "code",
   "execution_count": 29,
   "id": "e98e02ba",
   "metadata": {},
   "outputs": [
    {
     "name": "stdout",
     "output_type": "stream",
     "text": [
      "              precision    recall  f1-score   support\n",
      "\n",
      "           0       0.75      1.00      0.86        42\n",
      "           1       1.00      0.60      0.75        35\n",
      "\n",
      "    accuracy                           0.82        77\n",
      "   macro avg       0.88      0.80      0.80        77\n",
      "weighted avg       0.86      0.82      0.81        77\n",
      "\n"
     ]
    }
   ],
   "source": [
    "metrics = classification_report(y_test, y_pred, output_dict=False)\n",
    "print(metrics)"
   ]
  },
  {
   "cell_type": "code",
   "execution_count": 30,
   "id": "3c899590",
   "metadata": {},
   "outputs": [
    {
     "data": {
      "text/plain": [
       "array([[42,  0],\n",
       "       [14, 21]])"
      ]
     },
     "execution_count": 30,
     "metadata": {},
     "output_type": "execute_result"
    }
   ],
   "source": [
    "cm = confusion_matrix(y_test, y_pred)\n",
    "cm"
   ]
  },
  {
   "cell_type": "markdown",
   "id": "e05c3e06",
   "metadata": {},
   "source": [
    "Below is a useful sklearn confusion matrix display utility plot. I always refer to it ever I need to check the array dimensions for true label, predicted labels. Seaborn is used later for an alternative display plot with text labels."
   ]
  },
  {
   "cell_type": "code",
   "execution_count": 31,
   "id": "08eff576",
   "metadata": {},
   "outputs": [
    {
     "data": {
      "text/plain": [
       "<sklearn.metrics._plot.confusion_matrix.ConfusionMatrixDisplay at 0x7f8df4624820>"
      ]
     },
     "execution_count": 31,
     "metadata": {},
     "output_type": "execute_result"
    },
    {
     "data": {
      "image/png": "[encoded data removed]",
      "text/plain": [
       "<Figure size 640x480 with 2 Axes>"
      ]
     },
     "metadata": {},
     "output_type": "display_data"
    }
   ],
   "source": [
    "ConfusionMatrixDisplay(cm).plot()"
   ]
  },
  {
   "cell_type": "code",
   "execution_count": 32,
   "id": "e70fce1d",
   "metadata": {},
   "outputs": [
    {
     "data": {
      "text/plain": [
       "<AxesSubplot:>"
      ]
     },
     "execution_count": 32,
     "metadata": {},
     "output_type": "execute_result"
    },
    {
     "data": {
      "image/png": "[encoded data removed]",
      "text/plain": [
       "<Figure size 640x480 with 2 Axes>"
      ]
     },
     "metadata": {},
     "output_type": "display_data"
    }
   ],
   "source": [
    "df_confusion_matrix = pd.DataFrame(cm, ['True Non-Diabetes', 'True Diabetes'],\n",
    "                     ['Predicted No Diabetes', 'Predicted Diabetes'])\n",
    "\n",
    "sns.heatmap(df_confusion_matrix, annot=True, fmt='g')"
   ]
  },
  {
   "cell_type": "markdown",
   "id": "67a4215e",
   "metadata": {},
   "source": [
    "#### Web References\n",
    "- https://en.wikipedia.org/wiki/Support_vector_machine\n",
    "- https://scikit-learn.org/stable/modules/generated/sklearn.svm.SVC.html\n",
    "- https://scikit-learn.org/stable/modules/generated/sklearn.svm.LinearSVC.html#sklearn.svm.LinearSVC\n",
    "- https://scikit-learn.org/stable/modules/preprocessing.html#normalization\n",
    "- https://stats.stackexchange.com/questions/31066/what-is-the-influence-of-c-in-svms-with-linear-kernel\n",
    "- https://gradio.app/docs/"
   ]
  }
 ],
 "metadata": {
  "kernelspec": {
   "display_name": "Python 3 (ipykernel)",
   "language": "python",
   "name": "python3"
  },
  "language_info": {
   "codemirror_mode": {
    "name": "ipython",
    "version": 3
   },
   "file_extension": ".py",
   "mimetype": "text/x-python",
   "name": "python",
   "nbconvert_exporter": "python",
   "pygments_lexer": "ipython3",
   "version": "3.9.12"
  }
 },
 "nbformat": 4,
 "nbformat_minor": 5
}
