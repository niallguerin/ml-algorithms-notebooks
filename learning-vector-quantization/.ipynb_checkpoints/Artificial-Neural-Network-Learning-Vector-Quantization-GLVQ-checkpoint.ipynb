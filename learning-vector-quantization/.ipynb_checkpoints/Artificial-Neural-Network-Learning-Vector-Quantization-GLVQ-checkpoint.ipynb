{
 "cells": [
  {
   "cell_type": "markdown",
   "id": "4b77a835",
   "metadata": {},
   "source": [
    "### Learning Vector Quantization\n",
    "This is using the iris dataset from sklearn sample datasets. It is an additional project that works with sklearn to implement LVQ - Learning Vector Quantization, which I studied in the machinelearningmastery.com ebook. We will extend it to diabetes and our Jupyter Notebook templates for GitHub, but for now, just get it working on this example dataset to apply the theory using an open source library.\n",
    "\n",
    "Web Reference:\n",
    "- https://sklvq.readthedocs.io/en/stable/auto_examples/01_basic_usage/plot_01_glvq.html#sphx-glr-auto-examples-01-basic-usage-plot-01-glvq-py"
   ]
  },
  {
   "cell_type": "code",
   "execution_count": 1,
   "id": "1adad790",
   "metadata": {},
   "outputs": [],
   "source": [
    "import matplotlib\n",
    "import matplotlib.pyplot as plt\n",
    "from sklearn.datasets import load_iris\n",
    "from sklearn.metrics import classification_report\n",
    "from sklearn.preprocessing import StandardScaler\n",
    "\n",
    "from sklvq import GLVQ\n",
    "\n",
    "matplotlib.rc(\"xtick\", labelsize=\"small\")\n",
    "matplotlib.rc(\"ytick\", labelsize=\"small\")\n",
    "\n",
    "# Contains also the target_names and feature_names, which we will use for the plots.\n",
    "iris = load_iris()\n",
    "\n",
    "data = iris.data\n",
    "labels = iris.target"
   ]
  },
  {
   "cell_type": "code",
   "execution_count": 2,
   "id": "cf0a84d7",
   "metadata": {},
   "outputs": [],
   "source": [
    "# Sklearn's standardscaler to perform z-transform\n",
    "scaler = StandardScaler()\n",
    "\n",
    "# Compute (fit) and apply (transform) z-transform\n",
    "data = scaler.fit_transform(data)\n",
    "\n",
    "# The creation of the model object used to fit the data to.\n",
    "model = GLVQ(\n",
    "    distance_type=\"squared-euclidean\",\n",
    "    activation_type=\"swish\",\n",
    "    activation_params={\"beta\": 2},\n",
    "    solver_type=\"steepest-gradient-descent\",\n",
    "    solver_params={\"max_runs\": 20, \"step_size\": 0.1},\n",
    ")"
   ]
  },
  {
   "cell_type": "code",
   "execution_count": 3,
   "id": "ce86a3cb",
   "metadata": {},
   "outputs": [
    {
     "name": "stdout",
     "output_type": "stream",
     "text": [
      "              precision    recall  f1-score   support\n",
      "\n",
      "           0       1.00      1.00      1.00        50\n",
      "           1       0.96      0.94      0.95        50\n",
      "           2       0.94      0.96      0.95        50\n",
      "\n",
      "    accuracy                           0.97       150\n",
      "   macro avg       0.97      0.97      0.97       150\n",
      "weighted avg       0.97      0.97      0.97       150\n",
      "\n"
     ]
    }
   ],
   "source": [
    "# Train the model using the iris dataset\n",
    "model.fit(data, labels)\n",
    "\n",
    "# Predict the labels using the trained model\n",
    "predicted_labels = model.predict(data)\n",
    "\n",
    "# To get a sense of the training performance we could print the classification report.\n",
    "print(classification_report(labels, predicted_labels))"
   ]
  }
 ],
 "metadata": {
  "kernelspec": {
   "display_name": "Python 3 (ipykernel)",
   "language": "python",
   "name": "python3"
  },
  "language_info": {
   "codemirror_mode": {
    "name": "ipython",
    "version": 3
   },
   "file_extension": ".py",
   "mimetype": "text/x-python",
   "name": "python",
   "nbconvert_exporter": "python",
   "pygments_lexer": "ipython3",
   "version": "3.9.12"
  }
 },
 "nbformat": 4,
 "nbformat_minor": 5
}
